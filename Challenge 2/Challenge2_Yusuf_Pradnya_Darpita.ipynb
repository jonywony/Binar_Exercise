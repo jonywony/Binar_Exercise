{
  "cells": [
    {
      "cell_type": "markdown",
      "metadata": {
        "id": "GUDxi753mRIA"
      },
      "source": [
        "# **Binar Academy: Challenge 2**\n",
        "\n",
        "**DAFTAR ISI:**\n",
        "\n",
        "**1. Domain Proyek** \n",
        "\n",
        "Berisi Latar Belakang dan alasan masalah tersebut harus diselesaikan.\n",
        "\n",
        "**2. Business Understanding** \n",
        "\n",
        "Berisi Problem Statement, Goals, dan Solution Statement.\n",
        "\n",
        "**3. Data Understanding**\n",
        "\n",
        "Berisi tentang penjelasan informasi dari data yang digunakan.\n",
        "\n",
        "**4. Data Preparation**\n",
        "\n",
        "Berisi tentang teknik persiapan data sebelum modeling.\n",
        "\n",
        "**5. Modeling** \n",
        "\n",
        "Berisi tentang model ML yang digunakan untuk memecahkan masalah.\n",
        "\n",
        "**6. Evaluasi**\n",
        "\n",
        "Berisi tentang penjelasan metriks evaluasi yang digunakan."
      ]
    },
    {
      "cell_type": "markdown",
      "metadata": {
        "id": "EuQkAK5dvCXt"
      },
      "source": [
        "\n",
        "# **1. Domain Proyek**\n",
        "\n",
        "**- Tema : Bisnis (Telekomunikasi)**\n",
        "\n",
        "**- Judul : Prediksi customer churn menggunakan Logistic Regression, KNN, dan Random Forest**\n",
        "\n",
        "**- Latar Belakang**\n",
        "\n",
        "Perkembangan industri telekomunikasi sangatlah\n",
        "cepat, hal ini dapat dilihat dari perilaku masyarakat\n",
        "yang menggunakan internet dalam berkomunikasi.\n",
        "Perilaku ini menyebabkan banyaknya perusahaan\n",
        "telekomunikasi dan meningkatnya internet service\n",
        "provider yang dapat menimbulkan persaingan\n",
        "antar provider.\n",
        "\n",
        "Pelanggan memiliki hak dalam memilih provider\n",
        "yang sesuai dan dapat beralih dari provider\n",
        "sebelumnya yang diartikan sebagai **Customer\n",
        "Churn.**\n",
        "\n",
        "**- Alasan Penyeleasian Masalah**\n",
        "\n",
        "Peralihan konsumen ke produk lain dapat menyebabkan berkurangnya\n",
        "pendapatan bagi perusahaan telekomunikasi. Selain itu, peralihan konsumen dapat menyebabkan citra suatu perusahaan dipandang kalah saing dibanding dengan produk serupa karena kualitas suatu produk biasanya dilihat dari review pengguna sebelumnya. Oleh karena itu, masalah customer churn penting untuk ditangani.\n"
      ]
    },
    {
      "cell_type": "markdown",
      "metadata": {
        "id": "_3OMW2kWTg3t"
      },
      "source": [
        "# **2. Business Understanding**\n",
        "\n",
        "**- Problem Statement**\n",
        "\n",
        "1. Bagaimana cara mendeteksi konsumen yang akan meninggalkan produk dan beralih ke produk lain (customer churn)?\n",
        "\n",
        "**- Goals**\n",
        "\n",
        "1. Diperlukan suatu sistem yang dapat memprediksi apakah konsumen akan berpaling dari produk berdasarkan aktivitasnya agar dapat segera ditangani dan membuat konsumen tetap pada produk perusahaan.\n",
        "\n",
        "**- Solution Statement**\n",
        "\n",
        "1. Untuk membuat sistem prediksi kali ini, digunakan 3 algoritma sebagai perbandingan yaitu Logistic Regression, KNN, dan Random Forest. Untuk menentukan algoritma yang lebih baik, saya menggunakan metriks evaluasi yaitu F1 Score dan akurasi. Saya memilih F1 Score karena dataset yang dimiliki memiliki jumlah kelas yang imabalanced atau tidak seimbang dan F1 Score menggunakan semua matriks prediksi sehingga hasil yang didapatkan lebih dapat dipercaya. Akurasi dipilih karena merupakan metde evaluasi yang umum dan dapat mencakup seluruh nilai pada confusion matrix."
      ]
    },
    {
      "cell_type": "markdown",
      "metadata": {
        "id": "XHwYmG1YWzl6"
      },
      "source": [
        "# **3. Data Understanding**\n",
        "\n",
        "3.1. Loading Data\n",
        "\n",
        "3.2. EDA-Deskripsi Variabel\n",
        "\n",
        "3.3. EDA-Univariate Analysis\n",
        "\n",
        "3.4. EDA-Multivariate Analysis"
      ]
    },
    {
      "cell_type": "markdown",
      "metadata": {
        "id": "T1E06cghZOqw"
      },
      "source": [
        "# **3.1. Loading Data**"
      ]
    },
    {
      "cell_type": "markdown",
      "metadata": {
        "id": "GKHrf3Y5ZX15"
      },
      "source": [
        "**- Import Package yang digunakan**"
      ]
    },
    {
      "cell_type": "code",
      "execution_count": null,
      "metadata": {
        "id": "1VkR5-5i_h6c"
      },
      "outputs": [],
      "source": [
        "import numpy as np\n",
        "import matplotlib.pyplot as plt\n",
        "import pandas as pd\n",
        "%matplotlib inline\n",
        "import seaborn as sns"
      ]
    },
    {
      "cell_type": "markdown",
      "metadata": {
        "id": "SO0iqxcgZfCu"
      },
      "source": [
        "**- Membaca data CSV dan mengubahnya menjadi DataFrame**"
      ]
    },
    {
      "cell_type": "code",
      "execution_count": null,
      "metadata": {
        "id": "pmMvYZ_LZeDn"
      },
      "outputs": [],
      "source": [
        "#URL untuk masing-masing dataset train dan test\n",
        "url_train = 'https://raw.githubusercontent.com/jonywony/Binar_Study_Case/main/Challenge%202/Dataset/train.csv'\n",
        "url_test = 'https://raw.githubusercontent.com/jonywony/Binar_Study_Case/main/Challenge%202/Dataset/test.csv'\n",
        "\n",
        "#Membaca csv sebagai dataframe\n",
        "df_train = pd.read_csv(url_train, header=0)\n",
        "df_test = pd.read_csv(url_test, header=0)\n",
        "\n",
        "#Membuang kolom id pada data test\n",
        "df_test.drop(columns=['id'], inplace=True)"
      ]
    },
    {
      "cell_type": "code",
      "execution_count": null,
      "metadata": {
        "colab": {
          "background_save": true,
          "base_uri": "https://localhost:8080/",
          "height": 270
        },
        "id": "NKvOPBVzbTQO",
        "outputId": "0663121b-b12d-45a0-c316-69a4a03dc5c9"
      },
      "outputs": [
        {
          "data": {
            "text/html": [
              "\n",
              "  <div id=\"df-a61f4b95-5f57-48ac-936d-4746b38f6e02\">\n",
              "    <div class=\"colab-df-container\">\n",
              "      <div>\n",
              "<style scoped>\n",
              "    .dataframe tbody tr th:only-of-type {\n",
              "        vertical-align: middle;\n",
              "    }\n",
              "\n",
              "    .dataframe tbody tr th {\n",
              "        vertical-align: top;\n",
              "    }\n",
              "\n",
              "    .dataframe thead th {\n",
              "        text-align: right;\n",
              "    }\n",
              "</style>\n",
              "<table border=\"1\" class=\"dataframe\">\n",
              "  <thead>\n",
              "    <tr style=\"text-align: right;\">\n",
              "      <th></th>\n",
              "      <th>state</th>\n",
              "      <th>account_length</th>\n",
              "      <th>area_code</th>\n",
              "      <th>international_plan</th>\n",
              "      <th>voice_mail_plan</th>\n",
              "      <th>number_vmail_messages</th>\n",
              "      <th>total_day_minutes</th>\n",
              "      <th>total_day_calls</th>\n",
              "      <th>total_day_charge</th>\n",
              "      <th>total_eve_minutes</th>\n",
              "      <th>total_eve_calls</th>\n",
              "      <th>total_eve_charge</th>\n",
              "      <th>total_night_minutes</th>\n",
              "      <th>total_night_calls</th>\n",
              "      <th>total_night_charge</th>\n",
              "      <th>total_intl_minutes</th>\n",
              "      <th>total_intl_calls</th>\n",
              "      <th>total_intl_charge</th>\n",
              "      <th>number_customer_service_calls</th>\n",
              "      <th>churn</th>\n",
              "    </tr>\n",
              "  </thead>\n",
              "  <tbody>\n",
              "    <tr>\n",
              "      <th>0</th>\n",
              "      <td>OH</td>\n",
              "      <td>107</td>\n",
              "      <td>area_code_415</td>\n",
              "      <td>no</td>\n",
              "      <td>yes</td>\n",
              "      <td>26</td>\n",
              "      <td>161.6</td>\n",
              "      <td>123</td>\n",
              "      <td>27.47</td>\n",
              "      <td>195.5</td>\n",
              "      <td>103</td>\n",
              "      <td>16.62</td>\n",
              "      <td>254.4</td>\n",
              "      <td>103</td>\n",
              "      <td>11.45</td>\n",
              "      <td>13.7</td>\n",
              "      <td>3</td>\n",
              "      <td>3.70</td>\n",
              "      <td>1</td>\n",
              "      <td>no</td>\n",
              "    </tr>\n",
              "    <tr>\n",
              "      <th>1</th>\n",
              "      <td>NJ</td>\n",
              "      <td>137</td>\n",
              "      <td>area_code_415</td>\n",
              "      <td>no</td>\n",
              "      <td>no</td>\n",
              "      <td>0</td>\n",
              "      <td>243.4</td>\n",
              "      <td>114</td>\n",
              "      <td>41.38</td>\n",
              "      <td>121.2</td>\n",
              "      <td>110</td>\n",
              "      <td>10.30</td>\n",
              "      <td>162.6</td>\n",
              "      <td>104</td>\n",
              "      <td>7.32</td>\n",
              "      <td>12.2</td>\n",
              "      <td>5</td>\n",
              "      <td>3.29</td>\n",
              "      <td>0</td>\n",
              "      <td>no</td>\n",
              "    </tr>\n",
              "    <tr>\n",
              "      <th>2</th>\n",
              "      <td>OH</td>\n",
              "      <td>84</td>\n",
              "      <td>area_code_408</td>\n",
              "      <td>yes</td>\n",
              "      <td>no</td>\n",
              "      <td>0</td>\n",
              "      <td>299.4</td>\n",
              "      <td>71</td>\n",
              "      <td>50.90</td>\n",
              "      <td>61.9</td>\n",
              "      <td>88</td>\n",
              "      <td>5.26</td>\n",
              "      <td>196.9</td>\n",
              "      <td>89</td>\n",
              "      <td>8.86</td>\n",
              "      <td>6.6</td>\n",
              "      <td>7</td>\n",
              "      <td>1.78</td>\n",
              "      <td>2</td>\n",
              "      <td>no</td>\n",
              "    </tr>\n",
              "    <tr>\n",
              "      <th>3</th>\n",
              "      <td>OK</td>\n",
              "      <td>75</td>\n",
              "      <td>area_code_415</td>\n",
              "      <td>yes</td>\n",
              "      <td>no</td>\n",
              "      <td>0</td>\n",
              "      <td>166.7</td>\n",
              "      <td>113</td>\n",
              "      <td>28.34</td>\n",
              "      <td>148.3</td>\n",
              "      <td>122</td>\n",
              "      <td>12.61</td>\n",
              "      <td>186.9</td>\n",
              "      <td>121</td>\n",
              "      <td>8.41</td>\n",
              "      <td>10.1</td>\n",
              "      <td>3</td>\n",
              "      <td>2.73</td>\n",
              "      <td>3</td>\n",
              "      <td>no</td>\n",
              "    </tr>\n",
              "    <tr>\n",
              "      <th>4</th>\n",
              "      <td>MA</td>\n",
              "      <td>121</td>\n",
              "      <td>area_code_510</td>\n",
              "      <td>no</td>\n",
              "      <td>yes</td>\n",
              "      <td>24</td>\n",
              "      <td>218.2</td>\n",
              "      <td>88</td>\n",
              "      <td>37.09</td>\n",
              "      <td>348.5</td>\n",
              "      <td>108</td>\n",
              "      <td>29.62</td>\n",
              "      <td>212.6</td>\n",
              "      <td>118</td>\n",
              "      <td>9.57</td>\n",
              "      <td>7.5</td>\n",
              "      <td>7</td>\n",
              "      <td>2.03</td>\n",
              "      <td>3</td>\n",
              "      <td>no</td>\n",
              "    </tr>\n",
              "  </tbody>\n",
              "</table>\n",
              "</div>\n",
              "      <button class=\"colab-df-convert\" onclick=\"convertToInteractive('df-a61f4b95-5f57-48ac-936d-4746b38f6e02')\"\n",
              "              title=\"Convert this dataframe to an interactive table.\"\n",
              "              style=\"display:none;\">\n",
              "        \n",
              "  <svg xmlns=\"http://www.w3.org/2000/svg\" height=\"24px\"viewBox=\"0 0 24 24\"\n",
              "       width=\"24px\">\n",
              "    <path d=\"M0 0h24v24H0V0z\" fill=\"none\"/>\n",
              "    <path d=\"M18.56 5.44l.94 2.06.94-2.06 2.06-.94-2.06-.94-.94-2.06-.94 2.06-2.06.94zm-11 1L8.5 8.5l.94-2.06 2.06-.94-2.06-.94L8.5 2.5l-.94 2.06-2.06.94zm10 10l.94 2.06.94-2.06 2.06-.94-2.06-.94-.94-2.06-.94 2.06-2.06.94z\"/><path d=\"M17.41 7.96l-1.37-1.37c-.4-.4-.92-.59-1.43-.59-.52 0-1.04.2-1.43.59L10.3 9.45l-7.72 7.72c-.78.78-.78 2.05 0 2.83L4 21.41c.39.39.9.59 1.41.59.51 0 1.02-.2 1.41-.59l7.78-7.78 2.81-2.81c.8-.78.8-2.07 0-2.86zM5.41 20L4 18.59l7.72-7.72 1.47 1.35L5.41 20z\"/>\n",
              "  </svg>\n",
              "      </button>\n",
              "      \n",
              "  <style>\n",
              "    .colab-df-container {\n",
              "      display:flex;\n",
              "      flex-wrap:wrap;\n",
              "      gap: 12px;\n",
              "    }\n",
              "\n",
              "    .colab-df-convert {\n",
              "      background-color: #E8F0FE;\n",
              "      border: none;\n",
              "      border-radius: 50%;\n",
              "      cursor: pointer;\n",
              "      display: none;\n",
              "      fill: #1967D2;\n",
              "      height: 32px;\n",
              "      padding: 0 0 0 0;\n",
              "      width: 32px;\n",
              "    }\n",
              "\n",
              "    .colab-df-convert:hover {\n",
              "      background-color: #E2EBFA;\n",
              "      box-shadow: 0px 1px 2px rgba(60, 64, 67, 0.3), 0px 1px 3px 1px rgba(60, 64, 67, 0.15);\n",
              "      fill: #174EA6;\n",
              "    }\n",
              "\n",
              "    [theme=dark] .colab-df-convert {\n",
              "      background-color: #3B4455;\n",
              "      fill: #D2E3FC;\n",
              "    }\n",
              "\n",
              "    [theme=dark] .colab-df-convert:hover {\n",
              "      background-color: #434B5C;\n",
              "      box-shadow: 0px 1px 3px 1px rgba(0, 0, 0, 0.15);\n",
              "      filter: drop-shadow(0px 1px 2px rgba(0, 0, 0, 0.3));\n",
              "      fill: #FFFFFF;\n",
              "    }\n",
              "  </style>\n",
              "\n",
              "      <script>\n",
              "        const buttonEl =\n",
              "          document.querySelector('#df-a61f4b95-5f57-48ac-936d-4746b38f6e02 button.colab-df-convert');\n",
              "        buttonEl.style.display =\n",
              "          google.colab.kernel.accessAllowed ? 'block' : 'none';\n",
              "\n",
              "        async function convertToInteractive(key) {\n",
              "          const element = document.querySelector('#df-a61f4b95-5f57-48ac-936d-4746b38f6e02');\n",
              "          const dataTable =\n",
              "            await google.colab.kernel.invokeFunction('convertToInteractive',\n",
              "                                                     [key], {});\n",
              "          if (!dataTable) return;\n",
              "\n",
              "          const docLinkHtml = 'Like what you see? Visit the ' +\n",
              "            '<a target=\"_blank\" href=https://colab.research.google.com/notebooks/data_table.ipynb>data table notebook</a>'\n",
              "            + ' to learn more about interactive tables.';\n",
              "          element.innerHTML = '';\n",
              "          dataTable['output_type'] = 'display_data';\n",
              "          await google.colab.output.renderOutput(dataTable, element);\n",
              "          const docLink = document.createElement('div');\n",
              "          docLink.innerHTML = docLinkHtml;\n",
              "          element.appendChild(docLink);\n",
              "        }\n",
              "      </script>\n",
              "    </div>\n",
              "  </div>\n",
              "  "
            ],
            "text/plain": [
              "  state  account_length      area_code international_plan voice_mail_plan  \\\n",
              "0    OH             107  area_code_415                 no             yes   \n",
              "1    NJ             137  area_code_415                 no              no   \n",
              "2    OH              84  area_code_408                yes              no   \n",
              "3    OK              75  area_code_415                yes              no   \n",
              "4    MA             121  area_code_510                 no             yes   \n",
              "\n",
              "   number_vmail_messages  total_day_minutes  total_day_calls  \\\n",
              "0                     26              161.6              123   \n",
              "1                      0              243.4              114   \n",
              "2                      0              299.4               71   \n",
              "3                      0              166.7              113   \n",
              "4                     24              218.2               88   \n",
              "\n",
              "   total_day_charge  total_eve_minutes  total_eve_calls  total_eve_charge  \\\n",
              "0             27.47              195.5              103             16.62   \n",
              "1             41.38              121.2              110             10.30   \n",
              "2             50.90               61.9               88              5.26   \n",
              "3             28.34              148.3              122             12.61   \n",
              "4             37.09              348.5              108             29.62   \n",
              "\n",
              "   total_night_minutes  total_night_calls  total_night_charge  \\\n",
              "0                254.4                103               11.45   \n",
              "1                162.6                104                7.32   \n",
              "2                196.9                 89                8.86   \n",
              "3                186.9                121                8.41   \n",
              "4                212.6                118                9.57   \n",
              "\n",
              "   total_intl_minutes  total_intl_calls  total_intl_charge  \\\n",
              "0                13.7                 3               3.70   \n",
              "1                12.2                 5               3.29   \n",
              "2                 6.6                 7               1.78   \n",
              "3                10.1                 3               2.73   \n",
              "4                 7.5                 7               2.03   \n",
              "\n",
              "   number_customer_service_calls churn  \n",
              "0                              1    no  \n",
              "1                              0    no  \n",
              "2                              2    no  \n",
              "3                              3    no  \n",
              "4                              3    no  "
            ]
          },
          "execution_count": 3,
          "metadata": {},
          "output_type": "execute_result"
        }
      ],
      "source": [
        "#Melihat preview data train\n",
        "df_train.head()"
      ]
    },
    {
      "cell_type": "code",
      "execution_count": null,
      "metadata": {
        "colab": {
          "background_save": true,
          "base_uri": "https://localhost:8080/",
          "height": 270
        },
        "id": "1y9GBJv2bUuN",
        "outputId": "09bb0daf-245b-4e88-f1e8-2c064f8dca9f"
      },
      "outputs": [
        {
          "data": {
            "text/html": [
              "\n",
              "  <div id=\"df-299dd05f-1955-46e6-9cec-70480508ad8f\">\n",
              "    <div class=\"colab-df-container\">\n",
              "      <div>\n",
              "<style scoped>\n",
              "    .dataframe tbody tr th:only-of-type {\n",
              "        vertical-align: middle;\n",
              "    }\n",
              "\n",
              "    .dataframe tbody tr th {\n",
              "        vertical-align: top;\n",
              "    }\n",
              "\n",
              "    .dataframe thead th {\n",
              "        text-align: right;\n",
              "    }\n",
              "</style>\n",
              "<table border=\"1\" class=\"dataframe\">\n",
              "  <thead>\n",
              "    <tr style=\"text-align: right;\">\n",
              "      <th></th>\n",
              "      <th>state</th>\n",
              "      <th>account_length</th>\n",
              "      <th>area_code</th>\n",
              "      <th>international_plan</th>\n",
              "      <th>voice_mail_plan</th>\n",
              "      <th>number_vmail_messages</th>\n",
              "      <th>total_day_minutes</th>\n",
              "      <th>total_day_calls</th>\n",
              "      <th>total_day_charge</th>\n",
              "      <th>total_eve_minutes</th>\n",
              "      <th>total_eve_calls</th>\n",
              "      <th>total_eve_charge</th>\n",
              "      <th>total_night_minutes</th>\n",
              "      <th>total_night_calls</th>\n",
              "      <th>total_night_charge</th>\n",
              "      <th>total_intl_minutes</th>\n",
              "      <th>total_intl_calls</th>\n",
              "      <th>total_intl_charge</th>\n",
              "      <th>number_customer_service_calls</th>\n",
              "    </tr>\n",
              "  </thead>\n",
              "  <tbody>\n",
              "    <tr>\n",
              "      <th>0</th>\n",
              "      <td>KS</td>\n",
              "      <td>128</td>\n",
              "      <td>area_code_415</td>\n",
              "      <td>no</td>\n",
              "      <td>yes</td>\n",
              "      <td>25</td>\n",
              "      <td>265.1</td>\n",
              "      <td>110</td>\n",
              "      <td>45.07</td>\n",
              "      <td>197.4</td>\n",
              "      <td>99</td>\n",
              "      <td>16.78</td>\n",
              "      <td>244.7</td>\n",
              "      <td>91</td>\n",
              "      <td>11.01</td>\n",
              "      <td>10.0</td>\n",
              "      <td>3</td>\n",
              "      <td>2.70</td>\n",
              "      <td>1</td>\n",
              "    </tr>\n",
              "    <tr>\n",
              "      <th>1</th>\n",
              "      <td>AL</td>\n",
              "      <td>118</td>\n",
              "      <td>area_code_510</td>\n",
              "      <td>yes</td>\n",
              "      <td>no</td>\n",
              "      <td>0</td>\n",
              "      <td>223.4</td>\n",
              "      <td>98</td>\n",
              "      <td>37.98</td>\n",
              "      <td>220.6</td>\n",
              "      <td>101</td>\n",
              "      <td>18.75</td>\n",
              "      <td>203.9</td>\n",
              "      <td>118</td>\n",
              "      <td>9.18</td>\n",
              "      <td>6.3</td>\n",
              "      <td>6</td>\n",
              "      <td>1.70</td>\n",
              "      <td>0</td>\n",
              "    </tr>\n",
              "    <tr>\n",
              "      <th>2</th>\n",
              "      <td>IA</td>\n",
              "      <td>62</td>\n",
              "      <td>area_code_415</td>\n",
              "      <td>no</td>\n",
              "      <td>no</td>\n",
              "      <td>0</td>\n",
              "      <td>120.7</td>\n",
              "      <td>70</td>\n",
              "      <td>20.52</td>\n",
              "      <td>307.2</td>\n",
              "      <td>76</td>\n",
              "      <td>26.11</td>\n",
              "      <td>203.0</td>\n",
              "      <td>99</td>\n",
              "      <td>9.14</td>\n",
              "      <td>13.1</td>\n",
              "      <td>6</td>\n",
              "      <td>3.54</td>\n",
              "      <td>4</td>\n",
              "    </tr>\n",
              "    <tr>\n",
              "      <th>3</th>\n",
              "      <td>VT</td>\n",
              "      <td>93</td>\n",
              "      <td>area_code_510</td>\n",
              "      <td>no</td>\n",
              "      <td>no</td>\n",
              "      <td>0</td>\n",
              "      <td>190.7</td>\n",
              "      <td>114</td>\n",
              "      <td>32.42</td>\n",
              "      <td>218.2</td>\n",
              "      <td>111</td>\n",
              "      <td>18.55</td>\n",
              "      <td>129.6</td>\n",
              "      <td>121</td>\n",
              "      <td>5.83</td>\n",
              "      <td>8.1</td>\n",
              "      <td>3</td>\n",
              "      <td>2.19</td>\n",
              "      <td>3</td>\n",
              "    </tr>\n",
              "    <tr>\n",
              "      <th>4</th>\n",
              "      <td>NE</td>\n",
              "      <td>174</td>\n",
              "      <td>area_code_415</td>\n",
              "      <td>no</td>\n",
              "      <td>no</td>\n",
              "      <td>0</td>\n",
              "      <td>124.3</td>\n",
              "      <td>76</td>\n",
              "      <td>21.13</td>\n",
              "      <td>277.1</td>\n",
              "      <td>112</td>\n",
              "      <td>23.55</td>\n",
              "      <td>250.7</td>\n",
              "      <td>115</td>\n",
              "      <td>11.28</td>\n",
              "      <td>15.5</td>\n",
              "      <td>5</td>\n",
              "      <td>4.19</td>\n",
              "      <td>3</td>\n",
              "    </tr>\n",
              "  </tbody>\n",
              "</table>\n",
              "</div>\n",
              "      <button class=\"colab-df-convert\" onclick=\"convertToInteractive('df-299dd05f-1955-46e6-9cec-70480508ad8f')\"\n",
              "              title=\"Convert this dataframe to an interactive table.\"\n",
              "              style=\"display:none;\">\n",
              "        \n",
              "  <svg xmlns=\"http://www.w3.org/2000/svg\" height=\"24px\"viewBox=\"0 0 24 24\"\n",
              "       width=\"24px\">\n",
              "    <path d=\"M0 0h24v24H0V0z\" fill=\"none\"/>\n",
              "    <path d=\"M18.56 5.44l.94 2.06.94-2.06 2.06-.94-2.06-.94-.94-2.06-.94 2.06-2.06.94zm-11 1L8.5 8.5l.94-2.06 2.06-.94-2.06-.94L8.5 2.5l-.94 2.06-2.06.94zm10 10l.94 2.06.94-2.06 2.06-.94-2.06-.94-.94-2.06-.94 2.06-2.06.94z\"/><path d=\"M17.41 7.96l-1.37-1.37c-.4-.4-.92-.59-1.43-.59-.52 0-1.04.2-1.43.59L10.3 9.45l-7.72 7.72c-.78.78-.78 2.05 0 2.83L4 21.41c.39.39.9.59 1.41.59.51 0 1.02-.2 1.41-.59l7.78-7.78 2.81-2.81c.8-.78.8-2.07 0-2.86zM5.41 20L4 18.59l7.72-7.72 1.47 1.35L5.41 20z\"/>\n",
              "  </svg>\n",
              "      </button>\n",
              "      \n",
              "  <style>\n",
              "    .colab-df-container {\n",
              "      display:flex;\n",
              "      flex-wrap:wrap;\n",
              "      gap: 12px;\n",
              "    }\n",
              "\n",
              "    .colab-df-convert {\n",
              "      background-color: #E8F0FE;\n",
              "      border: none;\n",
              "      border-radius: 50%;\n",
              "      cursor: pointer;\n",
              "      display: none;\n",
              "      fill: #1967D2;\n",
              "      height: 32px;\n",
              "      padding: 0 0 0 0;\n",
              "      width: 32px;\n",
              "    }\n",
              "\n",
              "    .colab-df-convert:hover {\n",
              "      background-color: #E2EBFA;\n",
              "      box-shadow: 0px 1px 2px rgba(60, 64, 67, 0.3), 0px 1px 3px 1px rgba(60, 64, 67, 0.15);\n",
              "      fill: #174EA6;\n",
              "    }\n",
              "\n",
              "    [theme=dark] .colab-df-convert {\n",
              "      background-color: #3B4455;\n",
              "      fill: #D2E3FC;\n",
              "    }\n",
              "\n",
              "    [theme=dark] .colab-df-convert:hover {\n",
              "      background-color: #434B5C;\n",
              "      box-shadow: 0px 1px 3px 1px rgba(0, 0, 0, 0.15);\n",
              "      filter: drop-shadow(0px 1px 2px rgba(0, 0, 0, 0.3));\n",
              "      fill: #FFFFFF;\n",
              "    }\n",
              "  </style>\n",
              "\n",
              "      <script>\n",
              "        const buttonEl =\n",
              "          document.querySelector('#df-299dd05f-1955-46e6-9cec-70480508ad8f button.colab-df-convert');\n",
              "        buttonEl.style.display =\n",
              "          google.colab.kernel.accessAllowed ? 'block' : 'none';\n",
              "\n",
              "        async function convertToInteractive(key) {\n",
              "          const element = document.querySelector('#df-299dd05f-1955-46e6-9cec-70480508ad8f');\n",
              "          const dataTable =\n",
              "            await google.colab.kernel.invokeFunction('convertToInteractive',\n",
              "                                                     [key], {});\n",
              "          if (!dataTable) return;\n",
              "\n",
              "          const docLinkHtml = 'Like what you see? Visit the ' +\n",
              "            '<a target=\"_blank\" href=https://colab.research.google.com/notebooks/data_table.ipynb>data table notebook</a>'\n",
              "            + ' to learn more about interactive tables.';\n",
              "          element.innerHTML = '';\n",
              "          dataTable['output_type'] = 'display_data';\n",
              "          await google.colab.output.renderOutput(dataTable, element);\n",
              "          const docLink = document.createElement('div');\n",
              "          docLink.innerHTML = docLinkHtml;\n",
              "          element.appendChild(docLink);\n",
              "        }\n",
              "      </script>\n",
              "    </div>\n",
              "  </div>\n",
              "  "
            ],
            "text/plain": [
              "  state  account_length      area_code international_plan voice_mail_plan  \\\n",
              "0    KS             128  area_code_415                 no             yes   \n",
              "1    AL             118  area_code_510                yes              no   \n",
              "2    IA              62  area_code_415                 no              no   \n",
              "3    VT              93  area_code_510                 no              no   \n",
              "4    NE             174  area_code_415                 no              no   \n",
              "\n",
              "   number_vmail_messages  total_day_minutes  total_day_calls  \\\n",
              "0                     25              265.1              110   \n",
              "1                      0              223.4               98   \n",
              "2                      0              120.7               70   \n",
              "3                      0              190.7              114   \n",
              "4                      0              124.3               76   \n",
              "\n",
              "   total_day_charge  total_eve_minutes  total_eve_calls  total_eve_charge  \\\n",
              "0             45.07              197.4               99             16.78   \n",
              "1             37.98              220.6              101             18.75   \n",
              "2             20.52              307.2               76             26.11   \n",
              "3             32.42              218.2              111             18.55   \n",
              "4             21.13              277.1              112             23.55   \n",
              "\n",
              "   total_night_minutes  total_night_calls  total_night_charge  \\\n",
              "0                244.7                 91               11.01   \n",
              "1                203.9                118                9.18   \n",
              "2                203.0                 99                9.14   \n",
              "3                129.6                121                5.83   \n",
              "4                250.7                115               11.28   \n",
              "\n",
              "   total_intl_minutes  total_intl_calls  total_intl_charge  \\\n",
              "0                10.0                 3               2.70   \n",
              "1                 6.3                 6               1.70   \n",
              "2                13.1                 6               3.54   \n",
              "3                 8.1                 3               2.19   \n",
              "4                15.5                 5               4.19   \n",
              "\n",
              "   number_customer_service_calls  \n",
              "0                              1  \n",
              "1                              0  \n",
              "2                              4  \n",
              "3                              3  \n",
              "4                              3  "
            ]
          },
          "execution_count": 4,
          "metadata": {},
          "output_type": "execute_result"
        }
      ],
      "source": [
        "#Melihat preview data test\n",
        "df_test.head()"
      ]
    },
    {
      "cell_type": "markdown",
      "metadata": {
        "id": "9FhP5YwhuM_v"
      },
      "source": [
        "# **3.2 EDA-Deskripsi Variabel**"
      ]
    },
    {
      "cell_type": "code",
      "execution_count": null,
      "metadata": {
        "colab": {
          "background_save": true,
          "base_uri": "https://localhost:8080/"
        },
        "id": "w8yCY1aZdCtO",
        "outputId": "02ad9fb4-9997-4320-f47d-98de22ea10e0"
      },
      "outputs": [
        {
          "name": "stdout",
          "output_type": "stream",
          "text": [
            "<class 'pandas.core.frame.DataFrame'>\n",
            "RangeIndex: 4250 entries, 0 to 4249\n",
            "Data columns (total 20 columns):\n",
            " #   Column                         Non-Null Count  Dtype  \n",
            "---  ------                         --------------  -----  \n",
            " 0   state                          4250 non-null   object \n",
            " 1   account_length                 4250 non-null   int64  \n",
            " 2   area_code                      4250 non-null   object \n",
            " 3   international_plan             4250 non-null   object \n",
            " 4   voice_mail_plan                4250 non-null   object \n",
            " 5   number_vmail_messages          4250 non-null   int64  \n",
            " 6   total_day_minutes              4250 non-null   float64\n",
            " 7   total_day_calls                4250 non-null   int64  \n",
            " 8   total_day_charge               4250 non-null   float64\n",
            " 9   total_eve_minutes              4250 non-null   float64\n",
            " 10  total_eve_calls                4250 non-null   int64  \n",
            " 11  total_eve_charge               4250 non-null   float64\n",
            " 12  total_night_minutes            4250 non-null   float64\n",
            " 13  total_night_calls              4250 non-null   int64  \n",
            " 14  total_night_charge             4250 non-null   float64\n",
            " 15  total_intl_minutes             4250 non-null   float64\n",
            " 16  total_intl_calls               4250 non-null   int64  \n",
            " 17  total_intl_charge              4250 non-null   float64\n",
            " 18  number_customer_service_calls  4250 non-null   int64  \n",
            " 19  churn                          4250 non-null   object \n",
            "dtypes: float64(8), int64(7), object(5)\n",
            "memory usage: 664.2+ KB\n"
          ]
        }
      ],
      "source": [
        "#Mengecek informasi tentang data train\n",
        "df_train.info()"
      ]
    },
    {
      "cell_type": "code",
      "execution_count": null,
      "metadata": {
        "colab": {
          "background_save": true,
          "base_uri": "https://localhost:8080/"
        },
        "id": "2e63yDvkuWzX",
        "outputId": "8a74e984-c296-4b9e-a0d2-f9532caaa4a1"
      },
      "outputs": [
        {
          "name": "stdout",
          "output_type": "stream",
          "text": [
            "<class 'pandas.core.frame.DataFrame'>\n",
            "RangeIndex: 750 entries, 0 to 749\n",
            "Data columns (total 19 columns):\n",
            " #   Column                         Non-Null Count  Dtype  \n",
            "---  ------                         --------------  -----  \n",
            " 0   state                          750 non-null    object \n",
            " 1   account_length                 750 non-null    int64  \n",
            " 2   area_code                      750 non-null    object \n",
            " 3   international_plan             750 non-null    object \n",
            " 4   voice_mail_plan                750 non-null    object \n",
            " 5   number_vmail_messages          750 non-null    int64  \n",
            " 6   total_day_minutes              750 non-null    float64\n",
            " 7   total_day_calls                750 non-null    int64  \n",
            " 8   total_day_charge               750 non-null    float64\n",
            " 9   total_eve_minutes              750 non-null    float64\n",
            " 10  total_eve_calls                750 non-null    int64  \n",
            " 11  total_eve_charge               750 non-null    float64\n",
            " 12  total_night_minutes            750 non-null    float64\n",
            " 13  total_night_calls              750 non-null    int64  \n",
            " 14  total_night_charge             750 non-null    float64\n",
            " 15  total_intl_minutes             750 non-null    float64\n",
            " 16  total_intl_calls               750 non-null    int64  \n",
            " 17  total_intl_charge              750 non-null    float64\n",
            " 18  number_customer_service_calls  750 non-null    int64  \n",
            "dtypes: float64(8), int64(7), object(4)\n",
            "memory usage: 111.5+ KB\n"
          ]
        }
      ],
      "source": [
        "#Mengecek informasi tentang data test\n",
        "df_test.info()"
      ]
    },
    {
      "cell_type": "markdown",
      "metadata": {
        "id": "D0wQ4HhYWllp"
      },
      "source": [
        "Kolom yang ada pada dataset adalah:\n",
        "\n",
        "1. **state** : Data Kategorik, tidak ada missing value\n",
        "2. **account_length** : Data Numerik, tidak ada missing value\n",
        "3. **area_code** : Data Kategorik, tidak ada missing value\n",
        "4. **international_plan** : Data Kategorik, tidak ada missing value\n",
        "5. **voice_mail_plan** : Data Kategorik, tidak ada missing value\n",
        "6. **number_vmail_messages** : Data Numerik, tidak ada missing value\n",
        "7. **total_day_minutes** : Data Numerik, tidak ada missing value\n",
        "8. **total_day_calls** : Data Numerik, tidak ada missing value\n",
        "9. **total_day_charge** : Data Numerik, tidak ada missing value\n",
        "10. **total_eve_minutes** : Data Numerik, tidak ada missing value\n",
        "11. **total_eve_calls** : Data Numerik, tidak ada missing value\n",
        "12. **total_eve_charge** : Data Numerik, tidak ada missing value\n",
        "13. **total_night_minutes** : Data Numerik, tidak ada missing value\n",
        "14.  **total_night_calls** : Data Numerik, tidak ada missing value\n",
        "15.  **total_night_charge** : Data Numerik, tidak ada missing value\n",
        "16.  **total_intl_minutes** : Data Numerik, tidak ada missing value\n",
        "17.  **total_intl_calls** : Data Numerik, tidak ada missing value\n",
        "18.  **total_intl_charge** : Data Numerik, tidak ada missing value\n",
        "19.  **number_customer_service_calls** : Data Numerik, tidak ada missing value\n",
        "20.  **churn** : Data Kategorik, tidak ada missing value"
      ]
    },
    {
      "cell_type": "code",
      "execution_count": null,
      "metadata": {
        "colab": {
          "background_save": true,
          "base_uri": "https://localhost:8080/",
          "height": 364
        },
        "id": "hZsm7rjEctnb",
        "outputId": "1ce3b04e-18f3-4ae1-adac-734b679d15da"
      },
      "outputs": [
        {
          "data": {
            "text/html": [
              "\n",
              "  <div id=\"df-5826def1-098a-403c-9e12-3ec5af0d20dd\">\n",
              "    <div class=\"colab-df-container\">\n",
              "      <div>\n",
              "<style scoped>\n",
              "    .dataframe tbody tr th:only-of-type {\n",
              "        vertical-align: middle;\n",
              "    }\n",
              "\n",
              "    .dataframe tbody tr th {\n",
              "        vertical-align: top;\n",
              "    }\n",
              "\n",
              "    .dataframe thead th {\n",
              "        text-align: right;\n",
              "    }\n",
              "</style>\n",
              "<table border=\"1\" class=\"dataframe\">\n",
              "  <thead>\n",
              "    <tr style=\"text-align: right;\">\n",
              "      <th></th>\n",
              "      <th>account_length</th>\n",
              "      <th>number_vmail_messages</th>\n",
              "      <th>total_day_minutes</th>\n",
              "      <th>total_day_calls</th>\n",
              "      <th>total_day_charge</th>\n",
              "      <th>total_eve_minutes</th>\n",
              "      <th>total_eve_calls</th>\n",
              "      <th>total_eve_charge</th>\n",
              "      <th>total_night_minutes</th>\n",
              "      <th>total_night_calls</th>\n",
              "      <th>total_night_charge</th>\n",
              "      <th>total_intl_minutes</th>\n",
              "      <th>total_intl_calls</th>\n",
              "      <th>total_intl_charge</th>\n",
              "      <th>number_customer_service_calls</th>\n",
              "    </tr>\n",
              "  </thead>\n",
              "  <tbody>\n",
              "    <tr>\n",
              "      <th>count</th>\n",
              "      <td>4250.000000</td>\n",
              "      <td>4250.000000</td>\n",
              "      <td>4250.000000</td>\n",
              "      <td>4250.000000</td>\n",
              "      <td>4250.000000</td>\n",
              "      <td>4250.000000</td>\n",
              "      <td>4250.000000</td>\n",
              "      <td>4250.000000</td>\n",
              "      <td>4250.000000</td>\n",
              "      <td>4250.000000</td>\n",
              "      <td>4250.000000</td>\n",
              "      <td>4250.000000</td>\n",
              "      <td>4250.000000</td>\n",
              "      <td>4250.000000</td>\n",
              "      <td>4250.000000</td>\n",
              "    </tr>\n",
              "    <tr>\n",
              "      <th>mean</th>\n",
              "      <td>100.236235</td>\n",
              "      <td>7.631765</td>\n",
              "      <td>180.259600</td>\n",
              "      <td>99.907294</td>\n",
              "      <td>30.644682</td>\n",
              "      <td>200.173906</td>\n",
              "      <td>100.176471</td>\n",
              "      <td>17.015012</td>\n",
              "      <td>200.527882</td>\n",
              "      <td>99.839529</td>\n",
              "      <td>9.023892</td>\n",
              "      <td>10.256071</td>\n",
              "      <td>4.426353</td>\n",
              "      <td>2.769654</td>\n",
              "      <td>1.559059</td>\n",
              "    </tr>\n",
              "    <tr>\n",
              "      <th>std</th>\n",
              "      <td>39.698401</td>\n",
              "      <td>13.439882</td>\n",
              "      <td>54.012373</td>\n",
              "      <td>19.850817</td>\n",
              "      <td>9.182096</td>\n",
              "      <td>50.249518</td>\n",
              "      <td>19.908591</td>\n",
              "      <td>4.271212</td>\n",
              "      <td>50.353548</td>\n",
              "      <td>20.093220</td>\n",
              "      <td>2.265922</td>\n",
              "      <td>2.760102</td>\n",
              "      <td>2.463069</td>\n",
              "      <td>0.745204</td>\n",
              "      <td>1.311434</td>\n",
              "    </tr>\n",
              "    <tr>\n",
              "      <th>min</th>\n",
              "      <td>1.000000</td>\n",
              "      <td>0.000000</td>\n",
              "      <td>0.000000</td>\n",
              "      <td>0.000000</td>\n",
              "      <td>0.000000</td>\n",
              "      <td>0.000000</td>\n",
              "      <td>0.000000</td>\n",
              "      <td>0.000000</td>\n",
              "      <td>0.000000</td>\n",
              "      <td>0.000000</td>\n",
              "      <td>0.000000</td>\n",
              "      <td>0.000000</td>\n",
              "      <td>0.000000</td>\n",
              "      <td>0.000000</td>\n",
              "      <td>0.000000</td>\n",
              "    </tr>\n",
              "    <tr>\n",
              "      <th>25%</th>\n",
              "      <td>73.000000</td>\n",
              "      <td>0.000000</td>\n",
              "      <td>143.325000</td>\n",
              "      <td>87.000000</td>\n",
              "      <td>24.365000</td>\n",
              "      <td>165.925000</td>\n",
              "      <td>87.000000</td>\n",
              "      <td>14.102500</td>\n",
              "      <td>167.225000</td>\n",
              "      <td>86.000000</td>\n",
              "      <td>7.522500</td>\n",
              "      <td>8.500000</td>\n",
              "      <td>3.000000</td>\n",
              "      <td>2.300000</td>\n",
              "      <td>1.000000</td>\n",
              "    </tr>\n",
              "    <tr>\n",
              "      <th>50%</th>\n",
              "      <td>100.000000</td>\n",
              "      <td>0.000000</td>\n",
              "      <td>180.450000</td>\n",
              "      <td>100.000000</td>\n",
              "      <td>30.680000</td>\n",
              "      <td>200.700000</td>\n",
              "      <td>100.000000</td>\n",
              "      <td>17.060000</td>\n",
              "      <td>200.450000</td>\n",
              "      <td>100.000000</td>\n",
              "      <td>9.020000</td>\n",
              "      <td>10.300000</td>\n",
              "      <td>4.000000</td>\n",
              "      <td>2.780000</td>\n",
              "      <td>1.000000</td>\n",
              "    </tr>\n",
              "    <tr>\n",
              "      <th>75%</th>\n",
              "      <td>127.000000</td>\n",
              "      <td>16.000000</td>\n",
              "      <td>216.200000</td>\n",
              "      <td>113.000000</td>\n",
              "      <td>36.750000</td>\n",
              "      <td>233.775000</td>\n",
              "      <td>114.000000</td>\n",
              "      <td>19.867500</td>\n",
              "      <td>234.700000</td>\n",
              "      <td>113.000000</td>\n",
              "      <td>10.560000</td>\n",
              "      <td>12.000000</td>\n",
              "      <td>6.000000</td>\n",
              "      <td>3.240000</td>\n",
              "      <td>2.000000</td>\n",
              "    </tr>\n",
              "    <tr>\n",
              "      <th>max</th>\n",
              "      <td>243.000000</td>\n",
              "      <td>52.000000</td>\n",
              "      <td>351.500000</td>\n",
              "      <td>165.000000</td>\n",
              "      <td>59.760000</td>\n",
              "      <td>359.300000</td>\n",
              "      <td>170.000000</td>\n",
              "      <td>30.540000</td>\n",
              "      <td>395.000000</td>\n",
              "      <td>175.000000</td>\n",
              "      <td>17.770000</td>\n",
              "      <td>20.000000</td>\n",
              "      <td>20.000000</td>\n",
              "      <td>5.400000</td>\n",
              "      <td>9.000000</td>\n",
              "    </tr>\n",
              "  </tbody>\n",
              "</table>\n",
              "</div>\n",
              "      <button class=\"colab-df-convert\" onclick=\"convertToInteractive('df-5826def1-098a-403c-9e12-3ec5af0d20dd')\"\n",
              "              title=\"Convert this dataframe to an interactive table.\"\n",
              "              style=\"display:none;\">\n",
              "        \n",
              "  <svg xmlns=\"http://www.w3.org/2000/svg\" height=\"24px\"viewBox=\"0 0 24 24\"\n",
              "       width=\"24px\">\n",
              "    <path d=\"M0 0h24v24H0V0z\" fill=\"none\"/>\n",
              "    <path d=\"M18.56 5.44l.94 2.06.94-2.06 2.06-.94-2.06-.94-.94-2.06-.94 2.06-2.06.94zm-11 1L8.5 8.5l.94-2.06 2.06-.94-2.06-.94L8.5 2.5l-.94 2.06-2.06.94zm10 10l.94 2.06.94-2.06 2.06-.94-2.06-.94-.94-2.06-.94 2.06-2.06.94z\"/><path d=\"M17.41 7.96l-1.37-1.37c-.4-.4-.92-.59-1.43-.59-.52 0-1.04.2-1.43.59L10.3 9.45l-7.72 7.72c-.78.78-.78 2.05 0 2.83L4 21.41c.39.39.9.59 1.41.59.51 0 1.02-.2 1.41-.59l7.78-7.78 2.81-2.81c.8-.78.8-2.07 0-2.86zM5.41 20L4 18.59l7.72-7.72 1.47 1.35L5.41 20z\"/>\n",
              "  </svg>\n",
              "      </button>\n",
              "      \n",
              "  <style>\n",
              "    .colab-df-container {\n",
              "      display:flex;\n",
              "      flex-wrap:wrap;\n",
              "      gap: 12px;\n",
              "    }\n",
              "\n",
              "    .colab-df-convert {\n",
              "      background-color: #E8F0FE;\n",
              "      border: none;\n",
              "      border-radius: 50%;\n",
              "      cursor: pointer;\n",
              "      display: none;\n",
              "      fill: #1967D2;\n",
              "      height: 32px;\n",
              "      padding: 0 0 0 0;\n",
              "      width: 32px;\n",
              "    }\n",
              "\n",
              "    .colab-df-convert:hover {\n",
              "      background-color: #E2EBFA;\n",
              "      box-shadow: 0px 1px 2px rgba(60, 64, 67, 0.3), 0px 1px 3px 1px rgba(60, 64, 67, 0.15);\n",
              "      fill: #174EA6;\n",
              "    }\n",
              "\n",
              "    [theme=dark] .colab-df-convert {\n",
              "      background-color: #3B4455;\n",
              "      fill: #D2E3FC;\n",
              "    }\n",
              "\n",
              "    [theme=dark] .colab-df-convert:hover {\n",
              "      background-color: #434B5C;\n",
              "      box-shadow: 0px 1px 3px 1px rgba(0, 0, 0, 0.15);\n",
              "      filter: drop-shadow(0px 1px 2px rgba(0, 0, 0, 0.3));\n",
              "      fill: #FFFFFF;\n",
              "    }\n",
              "  </style>\n",
              "\n",
              "      <script>\n",
              "        const buttonEl =\n",
              "          document.querySelector('#df-5826def1-098a-403c-9e12-3ec5af0d20dd button.colab-df-convert');\n",
              "        buttonEl.style.display =\n",
              "          google.colab.kernel.accessAllowed ? 'block' : 'none';\n",
              "\n",
              "        async function convertToInteractive(key) {\n",
              "          const element = document.querySelector('#df-5826def1-098a-403c-9e12-3ec5af0d20dd');\n",
              "          const dataTable =\n",
              "            await google.colab.kernel.invokeFunction('convertToInteractive',\n",
              "                                                     [key], {});\n",
              "          if (!dataTable) return;\n",
              "\n",
              "          const docLinkHtml = 'Like what you see? Visit the ' +\n",
              "            '<a target=\"_blank\" href=https://colab.research.google.com/notebooks/data_table.ipynb>data table notebook</a>'\n",
              "            + ' to learn more about interactive tables.';\n",
              "          element.innerHTML = '';\n",
              "          dataTable['output_type'] = 'display_data';\n",
              "          await google.colab.output.renderOutput(dataTable, element);\n",
              "          const docLink = document.createElement('div');\n",
              "          docLink.innerHTML = docLinkHtml;\n",
              "          element.appendChild(docLink);\n",
              "        }\n",
              "      </script>\n",
              "    </div>\n",
              "  </div>\n",
              "  "
            ],
            "text/plain": [
              "       account_length  number_vmail_messages  total_day_minutes  \\\n",
              "count     4250.000000            4250.000000        4250.000000   \n",
              "mean       100.236235               7.631765         180.259600   \n",
              "std         39.698401              13.439882          54.012373   \n",
              "min          1.000000               0.000000           0.000000   \n",
              "25%         73.000000               0.000000         143.325000   \n",
              "50%        100.000000               0.000000         180.450000   \n",
              "75%        127.000000              16.000000         216.200000   \n",
              "max        243.000000              52.000000         351.500000   \n",
              "\n",
              "       total_day_calls  total_day_charge  total_eve_minutes  total_eve_calls  \\\n",
              "count      4250.000000       4250.000000        4250.000000      4250.000000   \n",
              "mean         99.907294         30.644682         200.173906       100.176471   \n",
              "std          19.850817          9.182096          50.249518        19.908591   \n",
              "min           0.000000          0.000000           0.000000         0.000000   \n",
              "25%          87.000000         24.365000         165.925000        87.000000   \n",
              "50%         100.000000         30.680000         200.700000       100.000000   \n",
              "75%         113.000000         36.750000         233.775000       114.000000   \n",
              "max         165.000000         59.760000         359.300000       170.000000   \n",
              "\n",
              "       total_eve_charge  total_night_minutes  total_night_calls  \\\n",
              "count       4250.000000          4250.000000        4250.000000   \n",
              "mean          17.015012           200.527882          99.839529   \n",
              "std            4.271212            50.353548          20.093220   \n",
              "min            0.000000             0.000000           0.000000   \n",
              "25%           14.102500           167.225000          86.000000   \n",
              "50%           17.060000           200.450000         100.000000   \n",
              "75%           19.867500           234.700000         113.000000   \n",
              "max           30.540000           395.000000         175.000000   \n",
              "\n",
              "       total_night_charge  total_intl_minutes  total_intl_calls  \\\n",
              "count         4250.000000         4250.000000       4250.000000   \n",
              "mean             9.023892           10.256071          4.426353   \n",
              "std              2.265922            2.760102          2.463069   \n",
              "min              0.000000            0.000000          0.000000   \n",
              "25%              7.522500            8.500000          3.000000   \n",
              "50%              9.020000           10.300000          4.000000   \n",
              "75%             10.560000           12.000000          6.000000   \n",
              "max             17.770000           20.000000         20.000000   \n",
              "\n",
              "       total_intl_charge  number_customer_service_calls  \n",
              "count        4250.000000                    4250.000000  \n",
              "mean            2.769654                       1.559059  \n",
              "std             0.745204                       1.311434  \n",
              "min             0.000000                       0.000000  \n",
              "25%             2.300000                       1.000000  \n",
              "50%             2.780000                       1.000000  \n",
              "75%             3.240000                       2.000000  \n",
              "max             5.400000                       9.000000  "
            ]
          },
          "execution_count": 7,
          "metadata": {},
          "output_type": "execute_result"
        }
      ],
      "source": [
        "#Menjabarkan data numerik pada data train\n",
        "df_train.describe()"
      ]
    },
    {
      "cell_type": "code",
      "execution_count": null,
      "metadata": {
        "colab": {
          "background_save": true,
          "base_uri": "https://localhost:8080/",
          "height": 364
        },
        "id": "-G5MOdandMbl",
        "outputId": "527741b5-fcb0-4b46-a7d3-366bbe9b3980"
      },
      "outputs": [
        {
          "data": {
            "text/html": [
              "\n",
              "  <div id=\"df-2215cdd7-9a68-4d11-910e-746a5c3fdec9\">\n",
              "    <div class=\"colab-df-container\">\n",
              "      <div>\n",
              "<style scoped>\n",
              "    .dataframe tbody tr th:only-of-type {\n",
              "        vertical-align: middle;\n",
              "    }\n",
              "\n",
              "    .dataframe tbody tr th {\n",
              "        vertical-align: top;\n",
              "    }\n",
              "\n",
              "    .dataframe thead th {\n",
              "        text-align: right;\n",
              "    }\n",
              "</style>\n",
              "<table border=\"1\" class=\"dataframe\">\n",
              "  <thead>\n",
              "    <tr style=\"text-align: right;\">\n",
              "      <th></th>\n",
              "      <th>account_length</th>\n",
              "      <th>number_vmail_messages</th>\n",
              "      <th>total_day_minutes</th>\n",
              "      <th>total_day_calls</th>\n",
              "      <th>total_day_charge</th>\n",
              "      <th>total_eve_minutes</th>\n",
              "      <th>total_eve_calls</th>\n",
              "      <th>total_eve_charge</th>\n",
              "      <th>total_night_minutes</th>\n",
              "      <th>total_night_calls</th>\n",
              "      <th>total_night_charge</th>\n",
              "      <th>total_intl_minutes</th>\n",
              "      <th>total_intl_calls</th>\n",
              "      <th>total_intl_charge</th>\n",
              "      <th>number_customer_service_calls</th>\n",
              "    </tr>\n",
              "  </thead>\n",
              "  <tbody>\n",
              "    <tr>\n",
              "      <th>count</th>\n",
              "      <td>750.000000</td>\n",
              "      <td>750.000000</td>\n",
              "      <td>750.000000</td>\n",
              "      <td>750.000000</td>\n",
              "      <td>750.000000</td>\n",
              "      <td>750.000000</td>\n",
              "      <td>750.000000</td>\n",
              "      <td>750.000000</td>\n",
              "      <td>750.000000</td>\n",
              "      <td>750.000000</td>\n",
              "      <td>750.000000</td>\n",
              "      <td>750.000000</td>\n",
              "      <td>750.000000</td>\n",
              "      <td>750.000000</td>\n",
              "      <td>750.000000</td>\n",
              "    </tr>\n",
              "    <tr>\n",
              "      <th>mean</th>\n",
              "      <td>100.385333</td>\n",
              "      <td>8.454667</td>\n",
              "      <td>180.454933</td>\n",
              "      <td>100.721333</td>\n",
              "      <td>30.677920</td>\n",
              "      <td>203.258267</td>\n",
              "      <td>100.273333</td>\n",
              "      <td>17.277080</td>\n",
              "      <td>199.619467</td>\n",
              "      <td>100.370667</td>\n",
              "      <td>8.982827</td>\n",
              "      <td>10.294133</td>\n",
              "      <td>4.485333</td>\n",
              "      <td>2.779933</td>\n",
              "      <td>1.634667</td>\n",
              "    </tr>\n",
              "    <tr>\n",
              "      <th>std</th>\n",
              "      <td>39.699029</td>\n",
              "      <td>14.123712</td>\n",
              "      <td>53.258337</td>\n",
              "      <td>19.718539</td>\n",
              "      <td>9.053756</td>\n",
              "      <td>52.185471</td>\n",
              "      <td>19.367535</td>\n",
              "      <td>4.435638</td>\n",
              "      <td>51.531351</td>\n",
              "      <td>19.185238</td>\n",
              "      <td>2.318920</td>\n",
              "      <td>2.770340</td>\n",
              "      <td>2.421901</td>\n",
              "      <td>0.747704</td>\n",
              "      <td>1.276207</td>\n",
              "    </tr>\n",
              "    <tr>\n",
              "      <th>min</th>\n",
              "      <td>1.000000</td>\n",
              "      <td>0.000000</td>\n",
              "      <td>12.500000</td>\n",
              "      <td>39.000000</td>\n",
              "      <td>2.130000</td>\n",
              "      <td>31.200000</td>\n",
              "      <td>37.000000</td>\n",
              "      <td>2.650000</td>\n",
              "      <td>50.900000</td>\n",
              "      <td>12.000000</td>\n",
              "      <td>2.290000</td>\n",
              "      <td>0.000000</td>\n",
              "      <td>0.000000</td>\n",
              "      <td>0.000000</td>\n",
              "      <td>0.000000</td>\n",
              "    </tr>\n",
              "    <tr>\n",
              "      <th>25%</th>\n",
              "      <td>74.000000</td>\n",
              "      <td>0.000000</td>\n",
              "      <td>146.625000</td>\n",
              "      <td>88.000000</td>\n",
              "      <td>24.925000</td>\n",
              "      <td>166.800000</td>\n",
              "      <td>87.000000</td>\n",
              "      <td>14.177500</td>\n",
              "      <td>164.475000</td>\n",
              "      <td>88.000000</td>\n",
              "      <td>7.402500</td>\n",
              "      <td>8.525000</td>\n",
              "      <td>3.000000</td>\n",
              "      <td>2.305000</td>\n",
              "      <td>1.000000</td>\n",
              "    </tr>\n",
              "    <tr>\n",
              "      <th>50%</th>\n",
              "      <td>101.000000</td>\n",
              "      <td>0.000000</td>\n",
              "      <td>178.200000</td>\n",
              "      <td>101.000000</td>\n",
              "      <td>30.295000</td>\n",
              "      <td>203.350000</td>\n",
              "      <td>101.000000</td>\n",
              "      <td>17.285000</td>\n",
              "      <td>199.450000</td>\n",
              "      <td>100.500000</td>\n",
              "      <td>8.975000</td>\n",
              "      <td>10.300000</td>\n",
              "      <td>4.000000</td>\n",
              "      <td>2.780000</td>\n",
              "      <td>1.000000</td>\n",
              "    </tr>\n",
              "    <tr>\n",
              "      <th>75%</th>\n",
              "      <td>126.000000</td>\n",
              "      <td>21.000000</td>\n",
              "      <td>215.975000</td>\n",
              "      <td>114.000000</td>\n",
              "      <td>36.715000</td>\n",
              "      <td>235.975000</td>\n",
              "      <td>113.000000</td>\n",
              "      <td>20.057500</td>\n",
              "      <td>234.800000</td>\n",
              "      <td>113.000000</td>\n",
              "      <td>10.565000</td>\n",
              "      <td>12.100000</td>\n",
              "      <td>6.000000</td>\n",
              "      <td>3.270000</td>\n",
              "      <td>2.000000</td>\n",
              "    </tr>\n",
              "    <tr>\n",
              "      <th>max</th>\n",
              "      <td>238.000000</td>\n",
              "      <td>51.000000</td>\n",
              "      <td>350.800000</td>\n",
              "      <td>163.000000</td>\n",
              "      <td>59.640000</td>\n",
              "      <td>363.700000</td>\n",
              "      <td>164.000000</td>\n",
              "      <td>30.910000</td>\n",
              "      <td>364.300000</td>\n",
              "      <td>168.000000</td>\n",
              "      <td>16.390000</td>\n",
              "      <td>18.900000</td>\n",
              "      <td>19.000000</td>\n",
              "      <td>5.100000</td>\n",
              "      <td>6.000000</td>\n",
              "    </tr>\n",
              "  </tbody>\n",
              "</table>\n",
              "</div>\n",
              "      <button class=\"colab-df-convert\" onclick=\"convertToInteractive('df-2215cdd7-9a68-4d11-910e-746a5c3fdec9')\"\n",
              "              title=\"Convert this dataframe to an interactive table.\"\n",
              "              style=\"display:none;\">\n",
              "        \n",
              "  <svg xmlns=\"http://www.w3.org/2000/svg\" height=\"24px\"viewBox=\"0 0 24 24\"\n",
              "       width=\"24px\">\n",
              "    <path d=\"M0 0h24v24H0V0z\" fill=\"none\"/>\n",
              "    <path d=\"M18.56 5.44l.94 2.06.94-2.06 2.06-.94-2.06-.94-.94-2.06-.94 2.06-2.06.94zm-11 1L8.5 8.5l.94-2.06 2.06-.94-2.06-.94L8.5 2.5l-.94 2.06-2.06.94zm10 10l.94 2.06.94-2.06 2.06-.94-2.06-.94-.94-2.06-.94 2.06-2.06.94z\"/><path d=\"M17.41 7.96l-1.37-1.37c-.4-.4-.92-.59-1.43-.59-.52 0-1.04.2-1.43.59L10.3 9.45l-7.72 7.72c-.78.78-.78 2.05 0 2.83L4 21.41c.39.39.9.59 1.41.59.51 0 1.02-.2 1.41-.59l7.78-7.78 2.81-2.81c.8-.78.8-2.07 0-2.86zM5.41 20L4 18.59l7.72-7.72 1.47 1.35L5.41 20z\"/>\n",
              "  </svg>\n",
              "      </button>\n",
              "      \n",
              "  <style>\n",
              "    .colab-df-container {\n",
              "      display:flex;\n",
              "      flex-wrap:wrap;\n",
              "      gap: 12px;\n",
              "    }\n",
              "\n",
              "    .colab-df-convert {\n",
              "      background-color: #E8F0FE;\n",
              "      border: none;\n",
              "      border-radius: 50%;\n",
              "      cursor: pointer;\n",
              "      display: none;\n",
              "      fill: #1967D2;\n",
              "      height: 32px;\n",
              "      padding: 0 0 0 0;\n",
              "      width: 32px;\n",
              "    }\n",
              "\n",
              "    .colab-df-convert:hover {\n",
              "      background-color: #E2EBFA;\n",
              "      box-shadow: 0px 1px 2px rgba(60, 64, 67, 0.3), 0px 1px 3px 1px rgba(60, 64, 67, 0.15);\n",
              "      fill: #174EA6;\n",
              "    }\n",
              "\n",
              "    [theme=dark] .colab-df-convert {\n",
              "      background-color: #3B4455;\n",
              "      fill: #D2E3FC;\n",
              "    }\n",
              "\n",
              "    [theme=dark] .colab-df-convert:hover {\n",
              "      background-color: #434B5C;\n",
              "      box-shadow: 0px 1px 3px 1px rgba(0, 0, 0, 0.15);\n",
              "      filter: drop-shadow(0px 1px 2px rgba(0, 0, 0, 0.3));\n",
              "      fill: #FFFFFF;\n",
              "    }\n",
              "  </style>\n",
              "\n",
              "      <script>\n",
              "        const buttonEl =\n",
              "          document.querySelector('#df-2215cdd7-9a68-4d11-910e-746a5c3fdec9 button.colab-df-convert');\n",
              "        buttonEl.style.display =\n",
              "          google.colab.kernel.accessAllowed ? 'block' : 'none';\n",
              "\n",
              "        async function convertToInteractive(key) {\n",
              "          const element = document.querySelector('#df-2215cdd7-9a68-4d11-910e-746a5c3fdec9');\n",
              "          const dataTable =\n",
              "            await google.colab.kernel.invokeFunction('convertToInteractive',\n",
              "                                                     [key], {});\n",
              "          if (!dataTable) return;\n",
              "\n",
              "          const docLinkHtml = 'Like what you see? Visit the ' +\n",
              "            '<a target=\"_blank\" href=https://colab.research.google.com/notebooks/data_table.ipynb>data table notebook</a>'\n",
              "            + ' to learn more about interactive tables.';\n",
              "          element.innerHTML = '';\n",
              "          dataTable['output_type'] = 'display_data';\n",
              "          await google.colab.output.renderOutput(dataTable, element);\n",
              "          const docLink = document.createElement('div');\n",
              "          docLink.innerHTML = docLinkHtml;\n",
              "          element.appendChild(docLink);\n",
              "        }\n",
              "      </script>\n",
              "    </div>\n",
              "  </div>\n",
              "  "
            ],
            "text/plain": [
              "       account_length  number_vmail_messages  total_day_minutes  \\\n",
              "count      750.000000             750.000000         750.000000   \n",
              "mean       100.385333               8.454667         180.454933   \n",
              "std         39.699029              14.123712          53.258337   \n",
              "min          1.000000               0.000000          12.500000   \n",
              "25%         74.000000               0.000000         146.625000   \n",
              "50%        101.000000               0.000000         178.200000   \n",
              "75%        126.000000              21.000000         215.975000   \n",
              "max        238.000000              51.000000         350.800000   \n",
              "\n",
              "       total_day_calls  total_day_charge  total_eve_minutes  total_eve_calls  \\\n",
              "count       750.000000        750.000000         750.000000       750.000000   \n",
              "mean        100.721333         30.677920         203.258267       100.273333   \n",
              "std          19.718539          9.053756          52.185471        19.367535   \n",
              "min          39.000000          2.130000          31.200000        37.000000   \n",
              "25%          88.000000         24.925000         166.800000        87.000000   \n",
              "50%         101.000000         30.295000         203.350000       101.000000   \n",
              "75%         114.000000         36.715000         235.975000       113.000000   \n",
              "max         163.000000         59.640000         363.700000       164.000000   \n",
              "\n",
              "       total_eve_charge  total_night_minutes  total_night_calls  \\\n",
              "count        750.000000           750.000000         750.000000   \n",
              "mean          17.277080           199.619467         100.370667   \n",
              "std            4.435638            51.531351          19.185238   \n",
              "min            2.650000            50.900000          12.000000   \n",
              "25%           14.177500           164.475000          88.000000   \n",
              "50%           17.285000           199.450000         100.500000   \n",
              "75%           20.057500           234.800000         113.000000   \n",
              "max           30.910000           364.300000         168.000000   \n",
              "\n",
              "       total_night_charge  total_intl_minutes  total_intl_calls  \\\n",
              "count          750.000000          750.000000        750.000000   \n",
              "mean             8.982827           10.294133          4.485333   \n",
              "std              2.318920            2.770340          2.421901   \n",
              "min              2.290000            0.000000          0.000000   \n",
              "25%              7.402500            8.525000          3.000000   \n",
              "50%              8.975000           10.300000          4.000000   \n",
              "75%             10.565000           12.100000          6.000000   \n",
              "max             16.390000           18.900000         19.000000   \n",
              "\n",
              "       total_intl_charge  number_customer_service_calls  \n",
              "count         750.000000                     750.000000  \n",
              "mean            2.779933                       1.634667  \n",
              "std             0.747704                       1.276207  \n",
              "min             0.000000                       0.000000  \n",
              "25%             2.305000                       1.000000  \n",
              "50%             2.780000                       1.000000  \n",
              "75%             3.270000                       2.000000  \n",
              "max             5.100000                       6.000000  "
            ]
          },
          "execution_count": 8,
          "metadata": {},
          "output_type": "execute_result"
        }
      ],
      "source": [
        "#Menjabarkan data numerik pada data test\n",
        "df_test.describe()"
      ]
    },
    {
      "cell_type": "markdown",
      "metadata": {
        "id": "ncCx9yXzdQmM"
      },
      "source": [
        "Pada data kali ini, terdapat data kategorik dan numerik. Data kategorik bersifat diskrit dan mewakili suatu kategori sementara data numerik biasanya bersifat kontinu dan mewakili angka.\n",
        "- **Data Kategorik**\n",
        "\n",
        "1. **state**\n",
        "3. **area_code**\n",
        "4. **international_plan**\n",
        "5. **voice_mail_plan** \n",
        "20.  **churn**\n",
        "\n",
        "- **Data Numerik**\n",
        "1. **account_length**\n",
        "6. **number_vmail_messages**\n",
        "7. **total_day_minutes**\n",
        "8. **total_day_calls**\n",
        "9. **total_day_charge**\n",
        "10. **total_eve_minutes**\n",
        "11. **total_eve_calls**\n",
        "12. **total_eve_charge**\n",
        "13. **total_night_minutes**\n",
        "14.  **total_night_calls**\n",
        "15.  **total_night_charge**\n",
        "16.  **total_intl_minutes**\n",
        "17.  **total_intl_calls**\n",
        "18.  **total_intl_charge**\n",
        "19.  **number_customer_service_calls**\n"
      ]
    },
    {
      "cell_type": "code",
      "execution_count": null,
      "metadata": {
        "colab": {
          "background_save": true
        },
        "id": "-zqAuOApfCDo"
      },
      "outputs": [],
      "source": [
        "#Memisahkan data train menjadi data numerik dan kategorik\n",
        "cat_features_train = df_train.select_dtypes(include=['object']).columns.to_list()\n",
        "num_features_train = df_train.select_dtypes(include=['float64', 'int64']).columns.to_list()"
      ]
    },
    {
      "cell_type": "code",
      "execution_count": null,
      "metadata": {
        "colab": {
          "background_save": true,
          "base_uri": "https://localhost:8080/"
        },
        "id": "PyXFdCV8ubkw",
        "outputId": "9270e720-6f8b-4e48-bb2b-00db446f0b4c"
      },
      "outputs": [
        {
          "data": {
            "text/plain": [
              "no     3652\n",
              "yes     598\n",
              "Name: churn, dtype: int64"
            ]
          },
          "execution_count": 10,
          "metadata": {},
          "output_type": "execute_result"
        }
      ],
      "source": [
        "#Mendefinisikan dependent variable atau target variabel\n",
        "df_train['churn'].value_counts()"
      ]
    },
    {
      "cell_type": "markdown",
      "metadata": {
        "id": "Uffjuv_oWjys"
      },
      "source": [
        "**Dependent variable** pada kasus kali ini adalah **churn** dimana kolom ini mengidentifikasi apakah konsumen merupakan customer churn atau bukan. Nilai yang ada pada kolom churn memiliki 2 nilai yaitu 'yes' atau 'no'. Hal ini berarti kasus klasifikasi kali ini diselesaikan menggunakan **binary classification** dengan output antara 2 nilai 'yes' atau 'no'."
      ]
    },
    {
      "cell_type": "code",
      "execution_count": null,
      "metadata": {
        "colab": {
          "background_save": true
        },
        "id": "tQM8DhpVswQx"
      },
      "outputs": [],
      "source": [
        "#Mengubah nilai pada churn sehingga menjadi numerik\n",
        "df_train['churn'] = df_train['churn'].map({'yes':1, 'no':0})"
      ]
    },
    {
      "cell_type": "markdown",
      "metadata": {
        "id": "1vtVR-xtf5cg"
      },
      "source": [
        "# **3.3 EDA-Univariate Analysis**\n",
        "\n",
        "Univariate analysis adalah sebuah analisis yang dilakukan terhadap masing-masing variabel untuk mengetahui persebaran data dan informasi pada data itu sendiri. Univariate analysis dipisahkan berdasarkan data numerik dan data kategorik"
      ]
    },
    {
      "cell_type": "markdown",
      "metadata": {
        "id": "omje78XzgNWL"
      },
      "source": [
        "- **Fitur Kategorik**\n"
      ]
    },
    {
      "cell_type": "code",
      "execution_count": null,
      "metadata": {
        "colab": {
          "background_save": true,
          "base_uri": "https://localhost:8080/",
          "height": 352
        },
        "id": "tOHk-H87WfYr",
        "outputId": "565b5518-0416-4a4a-ce7e-068ab2b493a9"
      },
      "outputs": [
        {
          "name": "stdout",
          "output_type": "stream",
          "text": [
            "jumlah unique value: 51\n"
          ]
        },
        {
          "data": {
            "image/png": "[encoded data removed]",
            "text/plain": [
              "<Figure size 1296x432 with 1 Axes>"
            ]
          },
          "metadata": {},
          "output_type": "display_data"
        }
      ],
      "source": [
        "feature = cat_features_train[0]\n",
        "count = df_train[feature].value_counts()\n",
        "print('jumlah unique value:', df_train[feature].nunique())\n",
        "plt.figure(figsize=(18,6))\n",
        "count.plot(kind='bar', title=feature);"
      ]
    },
    {
      "cell_type": "code",
      "execution_count": null,
      "metadata": {
        "colab": {
          "background_save": true
        },
        "id": "waGHVgvytU0H"
      },
      "outputs": [],
      "source": [
        "#Menghilangkan kolom state karena memiliki kardinalitas tinggi\n",
        "df_train.drop(['state'], axis=1, inplace=True)\n",
        "df_test.drop(['state'], axis=1, inplace=True)"
      ]
    },
    {
      "cell_type": "code",
      "execution_count": null,
      "metadata": {
        "colab": {
          "base_uri": "https://localhost:8080/",
          "height": 398
        },
        "id": "-HPMpf13hae0",
        "outputId": "8bc6e8bd-1a98-4720-8343-568077e618ae"
      },
      "outputs": [
        {
          "name": "stdout",
          "output_type": "stream",
          "text": [
            "jumlah unique value: 3\n"
          ]
        },
        {
          "data": {
            "image/png": "[encoded data removed]",
            "text/plain": [
              "<Figure size 1296x432 with 1 Axes>"
            ]
          },
          "metadata": {},
          "output_type": "display_data"
        }
      ],
      "source": [
        "feature = cat_features_train[1]\n",
        "count = df_train[feature].value_counts()\n",
        "print('jumlah unique value:', df_train[feature].nunique())\n",
        "plt.figure(figsize=(18,6))\n",
        "count.plot(kind='bar', title=feature);"
      ]
    },
    {
      "cell_type": "code",
      "execution_count": null,
      "metadata": {
        "colab": {
          "base_uri": "https://localhost:8080/",
          "height": 350
        },
        "id": "0gmmSaaXkU_W",
        "outputId": "f3c90560-50d5-421f-be9f-71d4c94febab"
      },
      "outputs": [
        {
          "name": "stdout",
          "output_type": "stream",
          "text": [
            "jumlah unique value: 2\n"
          ]
        },
        {
          "data": {
            "image/png": "[encoded data removed]",
            "text/plain": [
              "<Figure size 1296x432 with 1 Axes>"
            ]
          },
          "metadata": {},
          "output_type": "display_data"
        }
      ],
      "source": [
        "feature = cat_features_train[2]\n",
        "count = df_train[feature].value_counts()\n",
        "print('jumlah unique value:', df_train[feature].nunique())\n",
        "plt.figure(figsize=(18,6))\n",
        "count.plot(kind='bar', title=feature);"
      ]
    },
    {
      "cell_type": "code",
      "execution_count": null,
      "metadata": {
        "colab": {
          "base_uri": "https://localhost:8080/",
          "height": 350
        },
        "id": "ZXNs0pZKkXYt",
        "outputId": "da955547-01fc-49a7-ae9d-57ccb352df35"
      },
      "outputs": [
        {
          "name": "stdout",
          "output_type": "stream",
          "text": [
            "jumlah unique value: 2\n"
          ]
        },
        {
          "data": {
            "image/png": "[encoded data removed]",
            "text/plain": [
              "<Figure size 1296x432 with 1 Axes>"
            ]
          },
          "metadata": {},
          "output_type": "display_data"
        }
      ],
      "source": [
        "feature = cat_features_train[3]\n",
        "count = df_train[feature].value_counts()\n",
        "print('jumlah unique value:', df_train[feature].nunique())\n",
        "plt.figure(figsize=(18,6))\n",
        "count.plot(kind='bar', title=feature);"
      ]
    },
    {
      "cell_type": "code",
      "execution_count": null,
      "metadata": {
        "colab": {
          "base_uri": "https://localhost:8080/",
          "height": 350
        },
        "id": "p4xULy3EkYiD",
        "outputId": "3d743c05-bae7-4199-a38f-cfaa3e63c859"
      },
      "outputs": [
        {
          "name": "stdout",
          "output_type": "stream",
          "text": [
            "jumlah unique value: 2\n"
          ]
        },
        {
          "data": {
            "image/png": "[encoded data removed]",
            "text/plain": [
              "<Figure size 1296x432 with 1 Axes>"
            ]
          },
          "metadata": {},
          "output_type": "display_data"
        }
      ],
      "source": [
        "feature = cat_features_train[4]\n",
        "print('jumlah unique value:', df_train[feature].nunique())\n",
        "plt.figure(figsize=(18,6))\n",
        "count.plot(kind='bar', title=feature);"
      ]
    },
    {
      "cell_type": "markdown",
      "metadata": {
        "id": "7RpFXJLmrErB"
      },
      "source": [
        "Kolom state akan di drop karena memiliki kardinalitas tinggi(memiliki banyak nilai dalam kolom)"
      ]
    },
    {
      "cell_type": "code",
      "execution_count": null,
      "metadata": {
        "id": "BLiy5R23t85a"
      },
      "outputs": [],
      "source": [
        "#Mengeluarkan kolom state\n",
        "cat_features_train.remove('state')"
      ]
    },
    {
      "cell_type": "markdown",
      "metadata": {
        "id": "zL1EulH-rMB0"
      },
      "source": [
        "- **Fitur Numerik**"
      ]
    },
    {
      "cell_type": "code",
      "execution_count": null,
      "metadata": {
        "colab": {
          "background_save": true,
          "base_uri": "https://localhost:8080/",
          "height": 668
        },
        "id": "5SzAuHhgkaLp",
        "outputId": "90164f06-4513-45b5-b397-6f87c49ba326"
      },
      "outputs": [
        {
          "data": {
            "image/png": "[encoded data removed]",
            "text/plain": [
              "<Figure size 1440x1080 with 16 Axes>"
            ]
          },
          "metadata": {},
          "output_type": "display_data"
        }
      ],
      "source": [
        "#Melihat persebaran data numerik\n",
        "df_train[num_features_train].hist(bins=50, figsize=(20,15))\n",
        "plt.show()"
      ]
    },
    {
      "cell_type": "markdown",
      "metadata": {
        "id": "1duYvjuLroe2"
      },
      "source": [
        "Dapat dilihat bahwa hampir seluruh data numerik memiliki sebaran mendekati normal kecuali beberapa kolom seperti total_intl_calls, number_customer_service_calls, dan number_vmail_messages"
      ]
    },
    {
      "cell_type": "markdown",
      "metadata": {
        "id": "ilMKJDwir993"
      },
      "source": [
        "# **3.4. EDA-Multivariate Analysis**\n",
        "\n",
        "Multivariate analysis adalah analisis yang dilakukan terhadap masing-masing variabel untuk mengetahui persebaran data dan informasi pada data dengan label. multivariate analysis dipisahkan berdasarkan data numerik dan data kategorik"
      ]
    },
    {
      "cell_type": "markdown",
      "metadata": {
        "id": "UYbTqHyFujtJ"
      },
      "source": [
        "- **Fitur Kategorik**"
      ]
    },
    {
      "cell_type": "code",
      "execution_count": null,
      "metadata": {
        "colab": {
          "background_save": true,
          "base_uri": "https://localhost:8080/",
          "height": 1000
        },
        "id": "VuT_m5UUsVa_",
        "outputId": "3e54a478-088c-4ef6-a645-8506fcb501be"
      },
      "outputs": [
        {
          "data": {
            "image/png": "[encoded data removed]",
            "text/plain": [
              "<Figure size 864x288 with 1 Axes>"
            ]
          },
          "metadata": {},
          "output_type": "display_data"
        },
        {
          "data": {
            "image/png": "[encoded data removed]",
            "text/plain": [
              "<Figure size 864x288 with 1 Axes>"
            ]
          },
          "metadata": {},
          "output_type": "display_data"
        },
        {
          "data": {
            "image/png": "[encoded data removed]",
            "text/plain": [
              "<Figure size 864x288 with 1 Axes>"
            ]
          },
          "metadata": {},
          "output_type": "display_data"
        },
        {
          "data": {
            "image/png": "[encoded data removed]",
            "text/plain": [
              "<Figure size 864x288 with 1 Axes>"
            ]
          },
          "metadata": {},
          "output_type": "display_data"
        }
      ],
      "source": [
        "#Melakukan visualisasi kolom kategorik terhadap churn\n",
        "for col in cat_features_train:\n",
        "  sns.catplot(x=col, y=\"churn\", kind=\"bar\", dodge=False, height = 4, aspect = 3,  data=df_train, palette=\"Set3\")\n",
        "  plt.title(\"Rata-rata 'churn' Relatif terhadap - {}\".format(col))"
      ]
    },
    {
      "cell_type": "markdown",
      "metadata": {
        "id": "LPEsGvIvuEtA"
      },
      "source": [
        "Pada kolom area_code masing-masing nilai memiliki rata-rata yang hampir sama terhadap kolom churn. Pada kolom international_plan, nilai yes memiliki rata-rata lebih tinggi dibanding dengan no. Pada kolom voice_mail_plan, nilai no memiliki rata-rata lebih tingi dibandng nilai yes."
      ]
    },
    {
      "cell_type": "markdown",
      "metadata": {
        "id": "xJCNLdUeucRV"
      },
      "source": [
        "- **Fitur Numerik**"
      ]
    },
    {
      "cell_type": "code",
      "execution_count": null,
      "metadata": {
        "colab": {
          "base_uri": "https://localhost:8080/",
          "height": 670
        },
        "id": "Cmp94ZwareRo",
        "outputId": "4d5ffa04-d3c6-4cb6-a55a-770f6b660454"
      },
      "outputs": [
        {
          "data": {
            "text/plain": [
              "Text(0.5, 1.0, 'Correlation Matrix untuk Fitur Numerik ')"
            ]
          },
          "execution_count": 156,
          "metadata": {},
          "output_type": "execute_result"
        },
        {
          "data": {
            "image/png": "[encoded data removed]",
            "text/plain": [
              "<Figure size 720x576 with 2 Axes>"
            ]
          },
          "metadata": {},
          "output_type": "display_data"
        }
      ],
      "source": [
        "#menambahkan kolom churn kedalam kategori numerik\n",
        "num_features_train.append('churn')\n",
        "\n",
        "#Menset besar figure\n",
        "plt.figure(figsize=(10, 8))\n",
        "\n",
        "#Melakukan perhitungan korelasi\n",
        "correlation_matrix = df_train[num_features_train].corr().round(2)\n",
        " \n",
        "# Untuk menge-print nilai di dalam kotak, gunakan parameter anot=True\n",
        "sns.heatmap(data=correlation_matrix, annot=True, cmap='coolwarm', linewidths=0.5, )\n",
        "plt.title(\"Correlation Matrix untuk Fitur Numerik \", size=20)"
      ]
    },
    {
      "cell_type": "markdown",
      "metadata": {
        "id": "74MXSLx_vDeU"
      },
      "source": [
        "Kolom yang memiliki akhiran minutes selalu berkorelasi mutlak dengan kolom yang memiliki akhiran charge sehingga hanya akan diambil salah satu saja pada feature engineering. Kolom dengan akhiran minutes, charge, calls dapat disatukan (total)"
      ]
    },
    {
      "cell_type": "markdown",
      "metadata": {
        "id": "NwB2Tkggvb4I"
      },
      "source": [
        "# **4. Data Preparation**"
      ]
    },
    {
      "cell_type": "markdown",
      "metadata": {
        "id": "aOEZnLfEvuKk"
      },
      "source": [
        "- **Penanganan Missing Value**"
      ]
    },
    {
      "cell_type": "code",
      "execution_count": null,
      "metadata": {
        "colab": {
          "base_uri": "https://localhost:8080/"
        },
        "id": "xqqB-r_wvOcZ",
        "outputId": "06032838-5fd5-4a31-df83-ca397158675f"
      },
      "outputs": [
        {
          "data": {
            "text/plain": [
              "account_length                   0\n",
              "area_code                        0\n",
              "international_plan               0\n",
              "voice_mail_plan                  0\n",
              "number_vmail_messages            0\n",
              "total_day_minutes                0\n",
              "total_day_calls                  0\n",
              "total_day_charge                 0\n",
              "total_eve_minutes                0\n",
              "total_eve_calls                  0\n",
              "total_eve_charge                 0\n",
              "total_night_minutes              0\n",
              "total_night_calls                0\n",
              "total_night_charge               0\n",
              "total_intl_minutes               0\n",
              "total_intl_calls                 0\n",
              "total_intl_charge                0\n",
              "number_customer_service_calls    0\n",
              "churn                            0\n",
              "dtype: int64"
            ]
          },
          "execution_count": 157,
          "metadata": {},
          "output_type": "execute_result"
        }
      ],
      "source": [
        "#Mengecek apakah ada missing value dalam data\n",
        "df_train.isnull().sum()"
      ]
    },
    {
      "cell_type": "markdown",
      "metadata": {
        "id": "2J1_bYRtviEe"
      },
      "source": [
        "Tidak ada missing value yang terdeteksi sehingga akan dilanjutkan dengan proses berikutnya."
      ]
    },
    {
      "cell_type": "markdown",
      "metadata": {
        "id": "k5KdLtmkvrsi"
      },
      "source": [
        "- **Penanganan Outlier**"
      ]
    },
    {
      "cell_type": "code",
      "execution_count": null,
      "metadata": {
        "colab": {
          "base_uri": "https://localhost:8080/"
        },
        "id": "uUvsoIg4vzWY",
        "outputId": "eec47e32-0bd1-4660-9ec5-66ee071394b4"
      },
      "outputs": [
        {
          "data": {
            "text/plain": [
              "['account_length',\n",
              " 'number_vmail_messages',\n",
              " 'total_day_minutes',\n",
              " 'total_day_calls',\n",
              " 'total_day_charge',\n",
              " 'total_eve_minutes',\n",
              " 'total_eve_calls',\n",
              " 'total_eve_charge',\n",
              " 'total_night_minutes',\n",
              " 'total_night_calls',\n",
              " 'total_night_charge',\n",
              " 'total_intl_minutes',\n",
              " 'total_intl_calls',\n",
              " 'total_intl_charge',\n",
              " 'number_customer_service_calls',\n",
              " 'churn']"
            ]
          },
          "execution_count": 158,
          "metadata": {},
          "output_type": "execute_result"
        }
      ],
      "source": [
        "num_features_train"
      ]
    },
    {
      "cell_type": "code",
      "execution_count": null,
      "metadata": {
        "colab": {
          "base_uri": "https://localhost:8080/",
          "height": 297
        },
        "id": "LIM5TvY3wniK",
        "outputId": "5c2bc44d-5a27-4c45-f018-a7a5c4aad1ae"
      },
      "outputs": [
        {
          "data": {
            "text/plain": [
              "<matplotlib.axes._subplots.AxesSubplot at 0x7f23d1c59590>"
            ]
          },
          "execution_count": 159,
          "metadata": {},
          "output_type": "execute_result"
        },
        {
          "data": {
            "image/png": "[encoded data removed]",
            "text/plain": [
              "<Figure size 432x288 with 1 Axes>"
            ]
          },
          "metadata": {},
          "output_type": "display_data"
        }
      ],
      "source": [
        "#Mengecek apakah ada outlier \n",
        "sns.boxplot(x=df_train['account_length'])"
      ]
    },
    {
      "cell_type": "code",
      "execution_count": null,
      "metadata": {
        "colab": {
          "base_uri": "https://localhost:8080/",
          "height": 297
        },
        "id": "novGTAaBwtKq",
        "outputId": "570d750e-bf3a-4eee-ac1a-cb51494ab514"
      },
      "outputs": [
        {
          "data": {
            "text/plain": [
              "<matplotlib.axes._subplots.AxesSubplot at 0x7f23d4c2ec90>"
            ]
          },
          "execution_count": 160,
          "metadata": {},
          "output_type": "execute_result"
        },
        {
          "data": {
            "image/png": "[encoded data removed]",
            "text/plain": [
              "<Figure size 432x288 with 1 Axes>"
            ]
          },
          "metadata": {},
          "output_type": "display_data"
        }
      ],
      "source": [
        "#Mengecek apakah ada outlier \n",
        "sns.boxplot(x=df_train['number_vmail_messages'])"
      ]
    },
    {
      "cell_type": "code",
      "execution_count": null,
      "metadata": {
        "colab": {
          "base_uri": "https://localhost:8080/",
          "height": 297
        },
        "id": "ogrpSw-Twt0m",
        "outputId": "944a7bd8-ea75-4801-dc0b-fa8b7193a75c"
      },
      "outputs": [
        {
          "data": {
            "text/plain": [
              "<matplotlib.axes._subplots.AxesSubplot at 0x7f23d1d114d0>"
            ]
          },
          "execution_count": 161,
          "metadata": {},
          "output_type": "execute_result"
        },
        {
          "data": {
            "image/png": "[encoded data removed]",
            "text/plain": [
              "<Figure size 432x288 with 1 Axes>"
            ]
          },
          "metadata": {},
          "output_type": "display_data"
        }
      ],
      "source": [
        "#Mengecek apakah ada outlier \n",
        "sns.boxplot(x=df_train['total_day_minutes'])"
      ]
    },
    {
      "cell_type": "code",
      "execution_count": null,
      "metadata": {
        "colab": {
          "base_uri": "https://localhost:8080/",
          "height": 297
        },
        "id": "qrayuP0CwyJC",
        "outputId": "354cfd3c-9f47-48e5-c2ed-c768ae72c016"
      },
      "outputs": [
        {
          "data": {
            "text/plain": [
              "<matplotlib.axes._subplots.AxesSubplot at 0x7f23d4b2b150>"
            ]
          },
          "execution_count": 162,
          "metadata": {},
          "output_type": "execute_result"
        },
        {
          "data": {
            "image/png": "[encoded data removed]",
            "text/plain": [
              "<Figure size 432x288 with 1 Axes>"
            ]
          },
          "metadata": {},
          "output_type": "display_data"
        }
      ],
      "source": [
        "#Mengecek apakah ada outlier \n",
        "sns.boxplot(x=df_train['total_eve_minutes'])"
      ]
    },
    {
      "cell_type": "code",
      "execution_count": null,
      "metadata": {
        "colab": {
          "base_uri": "https://localhost:8080/",
          "height": 297
        },
        "id": "R4HVI53fwzBm",
        "outputId": "8bbd7a23-1c2a-427b-9d2d-292f37206c45"
      },
      "outputs": [
        {
          "data": {
            "text/plain": [
              "<matplotlib.axes._subplots.AxesSubplot at 0x7f23d4e4c790>"
            ]
          },
          "execution_count": 163,
          "metadata": {},
          "output_type": "execute_result"
        },
        {
          "data": {
            "image/png": "[encoded data removed]",
            "text/plain": [
              "<Figure size 432x288 with 1 Axes>"
            ]
          },
          "metadata": {},
          "output_type": "display_data"
        }
      ],
      "source": [
        "#Mengecek apakah ada outlier \n",
        "sns.boxplot(x=df_train['number_customer_service_calls'])"
      ]
    },
    {
      "cell_type": "code",
      "execution_count": null,
      "metadata": {
        "colab": {
          "base_uri": "https://localhost:8080/"
        },
        "id": "XZCFtCVhxU4o",
        "outputId": "deee26c3-2c74-4bc3-bdad-2454de253ecf"
      },
      "outputs": [
        {
          "data": {
            "text/plain": [
              "(3515, 19)"
            ]
          },
          "execution_count": 164,
          "metadata": {},
          "output_type": "execute_result"
        }
      ],
      "source": [
        "#Mengeluarkan kolom churn dari num-features_train\n",
        "num_features_train.remove('churn')\n",
        "#Menghitung Interquartile Range sebagai acuan untuk menghapus outlier\n",
        "Q1 = df_train[num_features_train].quantile(0.25)\n",
        "Q3 = df_train[num_features_train].quantile(0.75)\n",
        "IQR=Q3-Q1\n",
        "\n",
        "#Melakukan subset dan menghapus data outlier\n",
        "df_train[num_features_train]=df_train[num_features_train][~((df_train[num_features_train]<(Q1-1.5*IQR))|(df_train[num_features_train]>(Q3+1.5*IQR))).any(axis=1)]\n",
        "\n",
        "#Cek ukuran dataset setelah proses drop outliers\n",
        "df_train.dropna(axis=0, inplace=True)\n",
        "df_train.shape"
      ]
    },
    {
      "cell_type": "markdown",
      "metadata": {
        "id": "MwPLDs9-0LHB"
      },
      "source": [
        "Dari 5 contoh kolom yang divisualisasikan, dapat diambil kesimpulan bahwa ada beberapa kolom yang memiliki outlier dan perlu ditangani. Metode penanganan outlier yang digunakan adalah IQR method yang akan mengelompokan outlier berdasarkan IQR. Data yang ada terdeuksi dari 4250 menjadi 3515."
      ]
    },
    {
      "cell_type": "markdown",
      "metadata": {
        "id": "JwZQK7azvw4o"
      },
      "source": [
        "- **Penanganan Duplikat**"
      ]
    },
    {
      "cell_type": "code",
      "execution_count": null,
      "metadata": {
        "colab": {
          "base_uri": "https://localhost:8080/"
        },
        "id": "43PRM7GWzMpt",
        "outputId": "15f2f2d1-661c-417b-a2ad-2124596a7762"
      },
      "outputs": [
        {
          "data": {
            "text/plain": [
              "0"
            ]
          },
          "execution_count": 165,
          "metadata": {},
          "output_type": "execute_result"
        }
      ],
      "source": [
        "#Mengecek apakah ada kolom yang memiliki duplikat\n",
        "len(df_train[df_train.duplicated()])"
      ]
    },
    {
      "cell_type": "markdown",
      "metadata": {
        "id": "NDPDkjPx0GB7"
      },
      "source": [
        "Karena tidak ada data yang duplikat, akan dilanjutkan ke feature engineering"
      ]
    },
    {
      "cell_type": "markdown",
      "metadata": {
        "id": "0rraMk5Ev0Ur"
      },
      "source": [
        "- **Feature Engineering**"
      ]
    },
    {
      "cell_type": "code",
      "execution_count": null,
      "metadata": {
        "id": "kyQfOZFm0pjp"
      },
      "outputs": [],
      "source": [
        "#Mengubah fitur yang memiliki akhiran minutes, amount, dan charge pada data train\n",
        "df_train['total_charge_amount'] = df_train['total_day_charge'] + df_train['total_eve_charge'] + df_train['total_night_charge']+ df_train['total_intl_charge']\n",
        "df_train['total_call_minutes'] = df_train['total_day_minutes'] + df_train['total_eve_minutes'] + df_train['total_night_minutes'] + df_train['total_intl_minutes']\n",
        "df_train['total_number_calls'] = df_train['total_day_calls'] + df_train['total_eve_calls'] + df_train['total_night_calls'] + df_train['total_intl_calls'] "
      ]
    },
    {
      "cell_type": "code",
      "execution_count": null,
      "metadata": {
        "id": "WFEbSxe15Dr5"
      },
      "outputs": [],
      "source": [
        "#Mengubah fitur yang memiliki akhiran minutes, amount, dan charge pada data test\n",
        "df_test['total_charge_amount'] = df_test['total_day_charge'] + df_test['total_eve_charge'] + df_test['total_night_charge']+ df_test['total_intl_charge']\n",
        "df_test['total_call_minutes'] = df_test['total_day_minutes'] + df_test['total_eve_minutes'] + df_test['total_night_minutes'] + df_test['total_intl_minutes']\n",
        "df_test['total_number_calls'] = df_test['total_day_calls'] + df_test['total_eve_calls'] + df_test['total_night_calls'] + df_test['total_intl_calls'] "
      ]
    },
    {
      "cell_type": "code",
      "execution_count": null,
      "metadata": {
        "colab": {
          "base_uri": "https://localhost:8080/"
        },
        "id": "wCFXQClJ6FVy",
        "outputId": "3bd967be-1504-49cf-9b31-1b0ec9f57d09"
      },
      "outputs": [
        {
          "data": {
            "text/plain": [
              "0    3195\n",
              "1     320\n",
              "Name: international_plan, dtype: int64"
            ]
          },
          "execution_count": 168,
          "metadata": {},
          "output_type": "execute_result"
        }
      ],
      "source": [
        "#Melakukan label encoding pad akolom international_plan\n",
        "df_train['international_plan'].replace(['no','yes'],[0,1],inplace=True)\n",
        "df_test['international_plan'].replace(['no','yes'],[0,1],inplace=True)\n",
        "df_train['international_plan'].value_counts()"
      ]
    },
    {
      "cell_type": "code",
      "execution_count": null,
      "metadata": {
        "colab": {
          "base_uri": "https://localhost:8080/"
        },
        "id": "Q63ZJX9V6p_r",
        "outputId": "a18e5a60-8c35-4039-d881-81cbf23056aa"
      },
      "outputs": [
        {
          "data": {
            "text/plain": [
              "0    2640\n",
              "1     875\n",
              "Name: voice_mail_plan, dtype: int64"
            ]
          },
          "execution_count": 169,
          "metadata": {},
          "output_type": "execute_result"
        }
      ],
      "source": [
        "#Melakukan label encoding pad akolom international_plan\n",
        "df_train['voice_mail_plan'].replace(['no','yes'],[0,1],inplace=True)\n",
        "df_test['voice_mail_plan'].replace(['no','yes'],[0,1],inplace=True)\n",
        "df_train['voice_mail_plan'].value_counts()"
      ]
    },
    {
      "cell_type": "markdown",
      "metadata": {
        "id": "CHspieoC8ZUE"
      },
      "source": [
        "Feature engineering dilakukan untuk mengubah fitur yang ada agar dapat masuk ke dalam algoritma yang ingin dibuat. Kolom yang memiliki akhiran minutes, charge, dan calls dapat ditambahkan menjadi satu karena memiliki kesatuan yang sama. Kolom voice_mail_plan dan international_plan juga diubah menjadi boolean dengan nila 1 atau 0."
      ]
    },
    {
      "cell_type": "markdown",
      "metadata": {
        "id": "dlfxTpyvv9UE"
      },
      "source": [
        "- **Feature Selection**"
      ]
    },
    {
      "cell_type": "code",
      "execution_count": null,
      "metadata": {
        "id": "vUbP5DJm85JH"
      },
      "outputs": [],
      "source": [
        "#Menghapus kolom yang telah dilakukan feature engineering sebelumnya\n",
        "df_train.drop(['area_code', 'total_day_minutes', 'total_day_calls',\n",
        "       'total_day_charge', 'total_eve_minutes', 'total_eve_calls',\n",
        "       'total_eve_charge', 'total_night_minutes', 'total_night_calls',\n",
        "       'total_night_charge', 'total_intl_minutes', 'total_intl_calls',\n",
        "       'total_intl_charge'], axis=1, inplace=True)\n",
        "df_test.drop(['area_code', 'total_day_minutes', 'total_day_calls',\n",
        "       'total_day_charge', 'total_eve_minutes', 'total_eve_calls',\n",
        "       'total_eve_charge', 'total_night_minutes', 'total_night_calls',\n",
        "       'total_night_charge', 'total_intl_minutes', 'total_intl_calls',\n",
        "       'total_intl_charge'], axis=1, inplace=True)"
      ]
    },
    {
      "cell_type": "code",
      "execution_count": null,
      "metadata": {
        "colab": {
          "background_save": true,
          "base_uri": "https://localhost:8080/",
          "height": 449
        },
        "id": "fY1suo-Z9PrX",
        "outputId": "1a71df88-76af-44d5-81c6-45b1acdd3d5c"
      },
      "outputs": [
        {
          "data": {
            "text/plain": [
              "<matplotlib.axes._subplots.AxesSubplot at 0x7f5684674810>"
            ]
          },
          "execution_count": 36,
          "metadata": {},
          "output_type": "execute_result"
        },
        {
          "data": {
            "image/png": "[encoded data removed]",
            "text/plain": [
              "<Figure size 1296x432 with 2 Axes>"
            ]
          },
          "metadata": {},
          "output_type": "display_data"
        }
      ],
      "source": [
        "#Menggambarkan korelasi pada setiap fitur\n",
        "plt.figure(figsize=(18,6))\n",
        "sns.heatmap(df_train.corr(),cmap=\"YlGnBu\", annot = True)"
      ]
    },
    {
      "cell_type": "markdown",
      "metadata": {
        "id": "RHeAyuVjDUmY"
      },
      "source": [
        "Feature selection dilakukan dengan menghapus kolom yang telah dilakukan feature engineering sebelumnya."
      ]
    },
    {
      "cell_type": "markdown",
      "metadata": {
        "id": "Dtvzdx17wE1n"
      },
      "source": [
        "- **Train-Test Split**"
      ]
    },
    {
      "cell_type": "code",
      "execution_count": null,
      "metadata": {
        "colab": {
          "background_save": true
        },
        "id": "1MKMoDVcwAZi"
      },
      "outputs": [],
      "source": [
        "#Membagi dataset menjadi data training dan data latih\n",
        "from sklearn.model_selection import train_test_split\n",
        "\n",
        "#Membagi dataset dengan perbandingan 8:2 untuk data training dan data test berturut-turut\n",
        "X = df_train.drop([\"churn\"],axis =1)\n",
        "Y = df_train[\"churn\"].astype(int)\n",
        "X_train, X_test, Y_train, Y_test = train_test_split(X, Y, test_size = 0.2, random_state = 123)"
      ]
    },
    {
      "cell_type": "code",
      "execution_count": null,
      "metadata": {
        "colab": {
          "background_save": true,
          "base_uri": "https://localhost:8080/"
        },
        "id": "SwNhqoH7Dk87",
        "outputId": "3e60c3a0-26ae-4b14-d086-4af02d9abaea"
      },
      "outputs": [
        {
          "name": "stdout",
          "output_type": "stream",
          "text": [
            "Total # of sample in whole dataset: 3515\n",
            "Total # of sample in train dataset: 2812\n",
            "Total # of sample in test dataset: 703\n"
          ]
        }
      ],
      "source": [
        "#Mencetak nilai pada setiap dataset\n",
        "print(f'Total # of sample in whole dataset: {len(X)}')\n",
        "print(f'Total # of sample in train dataset: {len(X_train)}')\n",
        "print(f'Total # of sample in test dataset: {len(X_test)}')"
      ]
    },
    {
      "cell_type": "markdown",
      "metadata": {
        "id": "GyuI_QFUwIZ-"
      },
      "source": [
        "# **5. Modeling**"
      ]
    },
    {
      "cell_type": "code",
      "execution_count": null,
      "metadata": {
        "colab": {
          "background_save": true
        },
        "id": "nMBnH9QtPopC"
      },
      "outputs": [],
      "source": [
        "#Membuat model untuk prediksi\n",
        "# Siapkan dataframe untuk analisis model\n",
        "models = pd.DataFrame(index=['train_f1', 'test_f1', 'train_acc', 'test_acc'], \n",
        "                      columns=['KNN', 'RandomForest', 'logistic_Regression'])"
      ]
    },
    {
      "cell_type": "markdown",
      "metadata": {
        "id": "RftVA8VVw5Uu"
      },
      "source": [
        "- **KNN**"
      ]
    },
    {
      "cell_type": "code",
      "execution_count": null,
      "metadata": {
        "colab": {
          "base_uri": "https://localhost:8080/",
          "height": 334
        },
        "id": "UWYKMc5yPpSc",
        "outputId": "64c884bf-8560-4789-ce11-9b45b9be1b79"
      },
      "outputs": [
        {
          "name": "stdout",
          "output_type": "stream",
          "text": [
            "Accuracy Score is  =  0.9231863442389758\n",
            "confusion matrix \n",
            " [[630   6]\n",
            " [ 48  19]]\n"
          ]
        },
        {
          "data": {
            "image/png": "[encoded data removed]",
            "text/plain": [
              "<Figure size 432x288 with 2 Axes>"
            ]
          },
          "metadata": {},
          "output_type": "display_data"
        }
      ],
      "source": [
        "from sklearn.neighbors import KNeighborsClassifier\n",
        "from sklearn.metrics import accuracy_score, confusion_matrix, f1_score\n",
        "import time\n",
        "t1 = time.perf_counter()\n",
        "\n",
        "knn = KNeighborsClassifier(n_neighbors=10)\n",
        "knn.fit(X_train, Y_train)\n",
        "Y_pred = knn.predict(X_test) \n",
        "\n",
        "t2 = time.perf_counter()\n",
        "print('time taken to run:',t2-t1)\n",
        "\n",
        "accuracy= accuracy_score(Y_test , Y_pred)\n",
        "\n",
        "print('Accuracy Score is  = ', accuracy)\n",
        "\n",
        "conf = confusion_matrix(Y_test , Y_pred)\n",
        "print('confusion matrix \\n',  conf)\n",
        "\n",
        "\n",
        "sns.heatmap(conf, center = True, annot=True)\n",
        "plt.show()"
      ]
    },
    {
      "cell_type": "markdown",
      "metadata": {
        "id": "IgHIBBMwwzY2"
      },
      "source": [
        "- **logistic Regresion**"
      ]
    },
    {
      "cell_type": "code",
      "execution_count": null,
      "metadata": {
        "colab": {
          "base_uri": "https://localhost:8080/",
          "height": 493
        },
        "id": "M7yKclPOPtiv",
        "outputId": "fc2e8520-daaf-496f-8d32-22a905ad5776"
      },
      "outputs": [
        {
          "name": "stdout",
          "output_type": "stream",
          "text": [
            "Accuracy Score is  =  0.9118065433854907\n",
            "confusion matrix \n",
            " [[625  11]\n",
            " [ 51  16]]\n"
          ]
        },
        {
          "name": "stderr",
          "output_type": "stream",
          "text": [
            "/usr/local/lib/python3.7/dist-packages/sklearn/linear_model/_logistic.py:818: ConvergenceWarning: lbfgs failed to converge (status=1):\n",
            "STOP: TOTAL NO. of ITERATIONS REACHED LIMIT.\n",
            "\n",
            "Increase the number of iterations (max_iter) or scale the data as shown in:\n",
            "    https://scikit-learn.org/stable/modules/preprocessing.html\n",
            "Please also refer to the documentation for alternative solver options:\n",
            "    https://scikit-learn.org/stable/modules/linear_model.html#logistic-regression\n",
            "  extra_warning_msg=_LOGISTIC_SOLVER_CONVERGENCE_MSG,\n"
          ]
        },
        {
          "data": {
            "image/png": "[encoded data removed]",
            "text/plain": [
              "<Figure size 432x288 with 2 Axes>"
            ]
          },
          "metadata": {},
          "output_type": "display_data"
        }
      ],
      "source": [
        "# Impor library yang dibutuhkan\n",
        "from sklearn.linear_model import LogisticRegression\n",
        "t1 = time.perf_counter()\n",
        "\n",
        "# buat model prediksi\n",
        "logisticRegr = LogisticRegression(C=0.5, random_state=0)\n",
        "logisticRegr.fit(X_train, Y_train)\n",
        "Y_pred = logisticRegr.predict(X_test)\n",
        "\n",
        "t2 = time.perf_counter()\n",
        "print('time taken to run:',t2-t1)\n",
        "\n",
        "accuracy= accuracy_score(Y_test , Y_pred)\n",
        "\n",
        "print('Accuracy Score is  = ', accuracy)\n",
        "\n",
        "conf = confusion_matrix(Y_test , Y_pred)\n",
        "print('confusion matrix \\n',  conf)\n",
        "\n",
        "sns.heatmap(conf, center = True, annot=True)\n",
        "plt.show()"
      ]
    },
    {
      "cell_type": "markdown",
      "metadata": {
        "id": "nyZnOf_7xAek"
      },
      "source": [
        "- **Random Forest**"
      ]
    },
    {
      "cell_type": "code",
      "execution_count": null,
      "metadata": {
        "colab": {
          "base_uri": "https://localhost:8080/",
          "height": 334
        },
        "id": "Y2OZBQBhPr8q",
        "outputId": "9a6d9a32-aead-45cf-ad65-59cb86e4bebe"
      },
      "outputs": [
        {
          "name": "stdout",
          "output_type": "stream",
          "text": [
            "Accuracy Score is  =  0.9530583214793741\n",
            "confusion matrix \n",
            " [[633   3]\n",
            " [ 30  37]]\n"
          ]
        },
        {
          "data": {
            "image/png": "[encoded data removed]",
            "text/plain": [
              "<Figure size 432x288 with 2 Axes>"
            ]
          },
          "metadata": {},
          "output_type": "display_data"
        }
      ],
      "source": [
        "# Impor library yang dibutuhkan\n",
        "from sklearn.ensemble import RandomForestClassifier\n",
        "t1 = time.perf_counter()\n",
        "\n",
        "# buat model prediksi\n",
        "RF = RandomForestClassifier(n_estimators=50, max_depth=16, random_state=55, n_jobs=-1)\n",
        "RF.fit(X_train, Y_train)\n",
        "Y_pred = RF.predict(X_test)\n",
        "\n",
        "t2 = time.perf_counter()\n",
        "print('time taken to run:',t2-t1)\n",
        "\n",
        "accuracy= accuracy_score(Y_test , Y_pred)\n",
        "\n",
        "print('Accuracy Score is  = ', accuracy)\n",
        "\n",
        "conf = confusion_matrix(Y_test , Y_pred)\n",
        "print('confusion matrix \\n',  conf)\n",
        "\n",
        "sns.heatmap(conf, center = True, annot=True)\n",
        "plt.show()"
      ]
    },
    {
      "cell_type": "markdown",
      "metadata": {
        "id": "ezUi5bzVxFyi"
      },
      "source": [
        "# **6. Evaluasi**"
      ]
    },
    {
      "cell_type": "code",
      "execution_count": null,
      "metadata": {
        "colab": {
          "base_uri": "https://localhost:8080/",
          "height": 143
        },
        "id": "1lNSPlOCPvJc",
        "outputId": "1bcfd678-b8da-4a18-9175-902d2b8c8224"
      },
      "outputs": [
        {
          "data": {
            "text/html": [
              "\n",
              "  <div id=\"df-c58b6879-8fa2-4de7-9590-28decabdcb0e\">\n",
              "    <div class=\"colab-df-container\">\n",
              "      <div>\n",
              "<style scoped>\n",
              "    .dataframe tbody tr th:only-of-type {\n",
              "        vertical-align: middle;\n",
              "    }\n",
              "\n",
              "    .dataframe tbody tr th {\n",
              "        vertical-align: top;\n",
              "    }\n",
              "\n",
              "    .dataframe thead th {\n",
              "        text-align: right;\n",
              "    }\n",
              "</style>\n",
              "<table border=\"1\" class=\"dataframe\">\n",
              "  <thead>\n",
              "    <tr style=\"text-align: right;\">\n",
              "      <th></th>\n",
              "      <th>train_f1</th>\n",
              "      <th>test_f1</th>\n",
              "      <th>train_acc</th>\n",
              "      <th>test_acc</th>\n",
              "    </tr>\n",
              "  </thead>\n",
              "  <tbody>\n",
              "    <tr>\n",
              "      <th>KNN</th>\n",
              "      <td>0.899392</td>\n",
              "      <td>0.90688</td>\n",
              "      <td>0.916785</td>\n",
              "      <td>0.923186</td>\n",
              "    </tr>\n",
              "    <tr>\n",
              "      <th>RF</th>\n",
              "      <td>0.997138</td>\n",
              "      <td>0.947624</td>\n",
              "      <td>0.997155</td>\n",
              "      <td>0.953058</td>\n",
              "    </tr>\n",
              "    <tr>\n",
              "      <th>logisticRegr</th>\n",
              "      <td>0.873148</td>\n",
              "      <td>0.894386</td>\n",
              "      <td>0.895804</td>\n",
              "      <td>0.911807</td>\n",
              "    </tr>\n",
              "  </tbody>\n",
              "</table>\n",
              "</div>\n",
              "      <button class=\"colab-df-convert\" onclick=\"convertToInteractive('df-c58b6879-8fa2-4de7-9590-28decabdcb0e')\"\n",
              "              title=\"Convert this dataframe to an interactive table.\"\n",
              "              style=\"display:none;\">\n",
              "        \n",
              "  <svg xmlns=\"http://www.w3.org/2000/svg\" height=\"24px\"viewBox=\"0 0 24 24\"\n",
              "       width=\"24px\">\n",
              "    <path d=\"M0 0h24v24H0V0z\" fill=\"none\"/>\n",
              "    <path d=\"M18.56 5.44l.94 2.06.94-2.06 2.06-.94-2.06-.94-.94-2.06-.94 2.06-2.06.94zm-11 1L8.5 8.5l.94-2.06 2.06-.94-2.06-.94L8.5 2.5l-.94 2.06-2.06.94zm10 10l.94 2.06.94-2.06 2.06-.94-2.06-.94-.94-2.06-.94 2.06-2.06.94z\"/><path d=\"M17.41 7.96l-1.37-1.37c-.4-.4-.92-.59-1.43-.59-.52 0-1.04.2-1.43.59L10.3 9.45l-7.72 7.72c-.78.78-.78 2.05 0 2.83L4 21.41c.39.39.9.59 1.41.59.51 0 1.02-.2 1.41-.59l7.78-7.78 2.81-2.81c.8-.78.8-2.07 0-2.86zM5.41 20L4 18.59l7.72-7.72 1.47 1.35L5.41 20z\"/>\n",
              "  </svg>\n",
              "      </button>\n",
              "      \n",
              "  <style>\n",
              "    .colab-df-container {\n",
              "      display:flex;\n",
              "      flex-wrap:wrap;\n",
              "      gap: 12px;\n",
              "    }\n",
              "\n",
              "    .colab-df-convert {\n",
              "      background-color: #E8F0FE;\n",
              "      border: none;\n",
              "      border-radius: 50%;\n",
              "      cursor: pointer;\n",
              "      display: none;\n",
              "      fill: #1967D2;\n",
              "      height: 32px;\n",
              "      padding: 0 0 0 0;\n",
              "      width: 32px;\n",
              "    }\n",
              "\n",
              "    .colab-df-convert:hover {\n",
              "      background-color: #E2EBFA;\n",
              "      box-shadow: 0px 1px 2px rgba(60, 64, 67, 0.3), 0px 1px 3px 1px rgba(60, 64, 67, 0.15);\n",
              "      fill: #174EA6;\n",
              "    }\n",
              "\n",
              "    [theme=dark] .colab-df-convert {\n",
              "      background-color: #3B4455;\n",
              "      fill: #D2E3FC;\n",
              "    }\n",
              "\n",
              "    [theme=dark] .colab-df-convert:hover {\n",
              "      background-color: #434B5C;\n",
              "      box-shadow: 0px 1px 3px 1px rgba(0, 0, 0, 0.15);\n",
              "      filter: drop-shadow(0px 1px 2px rgba(0, 0, 0, 0.3));\n",
              "      fill: #FFFFFF;\n",
              "    }\n",
              "  </style>\n",
              "\n",
              "      <script>\n",
              "        const buttonEl =\n",
              "          document.querySelector('#df-c58b6879-8fa2-4de7-9590-28decabdcb0e button.colab-df-convert');\n",
              "        buttonEl.style.display =\n",
              "          google.colab.kernel.accessAllowed ? 'block' : 'none';\n",
              "\n",
              "        async function convertToInteractive(key) {\n",
              "          const element = document.querySelector('#df-c58b6879-8fa2-4de7-9590-28decabdcb0e');\n",
              "          const dataTable =\n",
              "            await google.colab.kernel.invokeFunction('convertToInteractive',\n",
              "                                                     [key], {});\n",
              "          if (!dataTable) return;\n",
              "\n",
              "          const docLinkHtml = 'Like what you see? Visit the ' +\n",
              "            '<a target=\"_blank\" href=https://colab.research.google.com/notebooks/data_table.ipynb>data table notebook</a>'\n",
              "            + ' to learn more about interactive tables.';\n",
              "          element.innerHTML = '';\n",
              "          dataTable['output_type'] = 'display_data';\n",
              "          await google.colab.output.renderOutput(dataTable, element);\n",
              "          const docLink = document.createElement('div');\n",
              "          docLink.innerHTML = docLinkHtml;\n",
              "          element.appendChild(docLink);\n",
              "        }\n",
              "      </script>\n",
              "    </div>\n",
              "  </div>\n",
              "  "
            ],
            "text/plain": [
              "              train_f1   test_f1 train_acc  test_acc\n",
              "KNN           0.899392   0.90688  0.916785  0.923186\n",
              "RF            0.997138  0.947624  0.997155  0.953058\n",
              "logisticRegr  0.873148  0.894386  0.895804  0.911807"
            ]
          },
          "execution_count": 178,
          "metadata": {},
          "output_type": "execute_result"
        }
      ],
      "source": [
        "# Buat variabel F1 yang isinya adalah dataframe nilai F1 data train dan test pada masing-masing algoritma\n",
        "f1_acc = pd.DataFrame(columns=['train_f1', 'test_f1', 'train_acc', 'test_acc'], index=['KNN','RF','logisticRegr'])\n",
        "\n",
        "# Buat dictionary untuk setiap algoritma yang digunakan\n",
        "model_dict = {'KNN': knn, 'RF': RF, 'logisticRegr': logisticRegr}\n",
        " \n",
        "# Hitung F1 Score masing-masing algoritma pada data train dan test\n",
        "for name, model in model_dict.items():\n",
        "    f1_acc.loc[name, 'train_f1'] = f1_score(y_true=Y_train, y_pred=model.predict(X_train), average='weighted')\n",
        "    f1_acc.loc[name, 'test_f1'] = f1_score(y_true=Y_test, y_pred=model.predict(X_test), average='weighted')\n",
        "    f1_acc.loc[name, 'train_acc'] = accuracy_score(y_true=Y_train, y_pred=model.predict(X_train))\n",
        "    f1_acc.loc[name, 'test_acc'] = accuracy_score(y_true=Y_test, y_pred=model.predict(X_test))\n",
        " \n",
        "# Panggil F1\n",
        "f1_acc"
      ]
    },
    {
      "cell_type": "code",
      "execution_count": null,
      "metadata": {
        "colab": {
          "base_uri": "https://localhost:8080/",
          "height": 322
        },
        "id": "uLjBZ6n4da5r",
        "outputId": "0598bc27-b71a-4440-9396-0bb14a01807a"
      },
      "outputs": [
        {
          "data": {
            "text/plain": [
              "<matplotlib.axes._subplots.AxesSubplot at 0x7f23d5250b90>"
            ]
          },
          "execution_count": 179,
          "metadata": {},
          "output_type": "execute_result"
        },
        {
          "data": {
            "image/png": "[encoded data removed]",
            "text/plain": [
              "<Figure size 1296x432 with 1 Axes>"
            ]
          },
          "metadata": {},
          "output_type": "display_data"
        }
      ],
      "source": [
        "f1_acc.sort_values(by='test_f1', ascending=True).plot(kind='barh', figsize=(18,6))"
      ]
    },
    {
      "cell_type": "markdown",
      "metadata": {
        "id": "Ms3K3SD3zov_"
      },
      "source": [
        "Dari analisis diatas menggunakan f1 score dan accuracy, didapatkan hasil terbaik adalah Random Forest dengan nilai f1 score 0.947624 dan nilai accuracy 0.953058. Pengembangan selanjutnya dapat ditambahkan Grid Search sebagai hyperparameter tuning."
      ]
    },
    {
      "cell_type": "code",
      "execution_count": null,
      "metadata": {
        "id": "zGxcI3zg8u4e"
      },
      "outputs": [],
      "source": [
        "#Melakukan prediksi menggunakan data test menggunakan Random Forest\n",
        "y_pred = RF.predict(df_test)"
      ]
    },
    {
      "cell_type": "code",
      "execution_count": null,
      "metadata": {
        "id": "OKdM89ls876A"
      },
      "outputs": [],
      "source": [
        "#Memasukan prediksi ke dalam csv\n",
        "df_test = pd.read_csv(url_test, header=0)\n",
        "df_test['churn'] = y_pred"
      ]
    },
    {
      "cell_type": "code",
      "execution_count": null,
      "metadata": {
        "colab": {
          "base_uri": "https://localhost:8080/",
          "height": 488
        },
        "id": "X5Dt_6Y29Sig",
        "outputId": "50b189da-51b0-47b1-95b8-72fce499a681"
      },
      "outputs": [
        {
          "data": {
            "text/html": [
              "\n",
              "  <div id=\"df-c1899679-4d93-4025-a3c9-a9b7d882f905\">\n",
              "    <div class=\"colab-df-container\">\n",
              "      <div>\n",
              "<style scoped>\n",
              "    .dataframe tbody tr th:only-of-type {\n",
              "        vertical-align: middle;\n",
              "    }\n",
              "\n",
              "    .dataframe tbody tr th {\n",
              "        vertical-align: top;\n",
              "    }\n",
              "\n",
              "    .dataframe thead th {\n",
              "        text-align: right;\n",
              "    }\n",
              "</style>\n",
              "<table border=\"1\" class=\"dataframe\">\n",
              "  <thead>\n",
              "    <tr style=\"text-align: right;\">\n",
              "      <th></th>\n",
              "      <th>id</th>\n",
              "      <th>state</th>\n",
              "      <th>account_length</th>\n",
              "      <th>area_code</th>\n",
              "      <th>international_plan</th>\n",
              "      <th>voice_mail_plan</th>\n",
              "      <th>number_vmail_messages</th>\n",
              "      <th>total_day_minutes</th>\n",
              "      <th>total_day_calls</th>\n",
              "      <th>total_day_charge</th>\n",
              "      <th>...</th>\n",
              "      <th>total_eve_calls</th>\n",
              "      <th>total_eve_charge</th>\n",
              "      <th>total_night_minutes</th>\n",
              "      <th>total_night_calls</th>\n",
              "      <th>total_night_charge</th>\n",
              "      <th>total_intl_minutes</th>\n",
              "      <th>total_intl_calls</th>\n",
              "      <th>total_intl_charge</th>\n",
              "      <th>number_customer_service_calls</th>\n",
              "      <th>churn</th>\n",
              "    </tr>\n",
              "  </thead>\n",
              "  <tbody>\n",
              "    <tr>\n",
              "      <th>0</th>\n",
              "      <td>1</td>\n",
              "      <td>KS</td>\n",
              "      <td>128</td>\n",
              "      <td>area_code_415</td>\n",
              "      <td>no</td>\n",
              "      <td>yes</td>\n",
              "      <td>25</td>\n",
              "      <td>265.1</td>\n",
              "      <td>110</td>\n",
              "      <td>45.07</td>\n",
              "      <td>...</td>\n",
              "      <td>99</td>\n",
              "      <td>16.78</td>\n",
              "      <td>244.7</td>\n",
              "      <td>91</td>\n",
              "      <td>11.01</td>\n",
              "      <td>10.0</td>\n",
              "      <td>3</td>\n",
              "      <td>2.70</td>\n",
              "      <td>1</td>\n",
              "      <td>0</td>\n",
              "    </tr>\n",
              "    <tr>\n",
              "      <th>1</th>\n",
              "      <td>2</td>\n",
              "      <td>AL</td>\n",
              "      <td>118</td>\n",
              "      <td>area_code_510</td>\n",
              "      <td>yes</td>\n",
              "      <td>no</td>\n",
              "      <td>0</td>\n",
              "      <td>223.4</td>\n",
              "      <td>98</td>\n",
              "      <td>37.98</td>\n",
              "      <td>...</td>\n",
              "      <td>101</td>\n",
              "      <td>18.75</td>\n",
              "      <td>203.9</td>\n",
              "      <td>118</td>\n",
              "      <td>9.18</td>\n",
              "      <td>6.3</td>\n",
              "      <td>6</td>\n",
              "      <td>1.70</td>\n",
              "      <td>0</td>\n",
              "      <td>0</td>\n",
              "    </tr>\n",
              "    <tr>\n",
              "      <th>2</th>\n",
              "      <td>3</td>\n",
              "      <td>IA</td>\n",
              "      <td>62</td>\n",
              "      <td>area_code_415</td>\n",
              "      <td>no</td>\n",
              "      <td>no</td>\n",
              "      <td>0</td>\n",
              "      <td>120.7</td>\n",
              "      <td>70</td>\n",
              "      <td>20.52</td>\n",
              "      <td>...</td>\n",
              "      <td>76</td>\n",
              "      <td>26.11</td>\n",
              "      <td>203.0</td>\n",
              "      <td>99</td>\n",
              "      <td>9.14</td>\n",
              "      <td>13.1</td>\n",
              "      <td>6</td>\n",
              "      <td>3.54</td>\n",
              "      <td>4</td>\n",
              "      <td>0</td>\n",
              "    </tr>\n",
              "    <tr>\n",
              "      <th>3</th>\n",
              "      <td>4</td>\n",
              "      <td>VT</td>\n",
              "      <td>93</td>\n",
              "      <td>area_code_510</td>\n",
              "      <td>no</td>\n",
              "      <td>no</td>\n",
              "      <td>0</td>\n",
              "      <td>190.7</td>\n",
              "      <td>114</td>\n",
              "      <td>32.42</td>\n",
              "      <td>...</td>\n",
              "      <td>111</td>\n",
              "      <td>18.55</td>\n",
              "      <td>129.6</td>\n",
              "      <td>121</td>\n",
              "      <td>5.83</td>\n",
              "      <td>8.1</td>\n",
              "      <td>3</td>\n",
              "      <td>2.19</td>\n",
              "      <td>3</td>\n",
              "      <td>0</td>\n",
              "    </tr>\n",
              "    <tr>\n",
              "      <th>4</th>\n",
              "      <td>5</td>\n",
              "      <td>NE</td>\n",
              "      <td>174</td>\n",
              "      <td>area_code_415</td>\n",
              "      <td>no</td>\n",
              "      <td>no</td>\n",
              "      <td>0</td>\n",
              "      <td>124.3</td>\n",
              "      <td>76</td>\n",
              "      <td>21.13</td>\n",
              "      <td>...</td>\n",
              "      <td>112</td>\n",
              "      <td>23.55</td>\n",
              "      <td>250.7</td>\n",
              "      <td>115</td>\n",
              "      <td>11.28</td>\n",
              "      <td>15.5</td>\n",
              "      <td>5</td>\n",
              "      <td>4.19</td>\n",
              "      <td>3</td>\n",
              "      <td>0</td>\n",
              "    </tr>\n",
              "    <tr>\n",
              "      <th>...</th>\n",
              "      <td>...</td>\n",
              "      <td>...</td>\n",
              "      <td>...</td>\n",
              "      <td>...</td>\n",
              "      <td>...</td>\n",
              "      <td>...</td>\n",
              "      <td>...</td>\n",
              "      <td>...</td>\n",
              "      <td>...</td>\n",
              "      <td>...</td>\n",
              "      <td>...</td>\n",
              "      <td>...</td>\n",
              "      <td>...</td>\n",
              "      <td>...</td>\n",
              "      <td>...</td>\n",
              "      <td>...</td>\n",
              "      <td>...</td>\n",
              "      <td>...</td>\n",
              "      <td>...</td>\n",
              "      <td>...</td>\n",
              "      <td>...</td>\n",
              "    </tr>\n",
              "    <tr>\n",
              "      <th>745</th>\n",
              "      <td>746</td>\n",
              "      <td>GA</td>\n",
              "      <td>130</td>\n",
              "      <td>area_code_415</td>\n",
              "      <td>no</td>\n",
              "      <td>no</td>\n",
              "      <td>0</td>\n",
              "      <td>119.4</td>\n",
              "      <td>99</td>\n",
              "      <td>20.30</td>\n",
              "      <td>...</td>\n",
              "      <td>97</td>\n",
              "      <td>19.24</td>\n",
              "      <td>202.7</td>\n",
              "      <td>111</td>\n",
              "      <td>9.12</td>\n",
              "      <td>11.3</td>\n",
              "      <td>7</td>\n",
              "      <td>3.05</td>\n",
              "      <td>0</td>\n",
              "      <td>0</td>\n",
              "    </tr>\n",
              "    <tr>\n",
              "      <th>746</th>\n",
              "      <td>747</td>\n",
              "      <td>WA</td>\n",
              "      <td>73</td>\n",
              "      <td>area_code_408</td>\n",
              "      <td>no</td>\n",
              "      <td>no</td>\n",
              "      <td>0</td>\n",
              "      <td>177.2</td>\n",
              "      <td>118</td>\n",
              "      <td>30.12</td>\n",
              "      <td>...</td>\n",
              "      <td>84</td>\n",
              "      <td>22.99</td>\n",
              "      <td>241.8</td>\n",
              "      <td>112</td>\n",
              "      <td>10.88</td>\n",
              "      <td>12.3</td>\n",
              "      <td>2</td>\n",
              "      <td>3.32</td>\n",
              "      <td>3</td>\n",
              "      <td>0</td>\n",
              "    </tr>\n",
              "    <tr>\n",
              "      <th>747</th>\n",
              "      <td>748</td>\n",
              "      <td>WV</td>\n",
              "      <td>152</td>\n",
              "      <td>area_code_415</td>\n",
              "      <td>no</td>\n",
              "      <td>no</td>\n",
              "      <td>0</td>\n",
              "      <td>184.2</td>\n",
              "      <td>90</td>\n",
              "      <td>31.31</td>\n",
              "      <td>...</td>\n",
              "      <td>73</td>\n",
              "      <td>21.83</td>\n",
              "      <td>213.6</td>\n",
              "      <td>113</td>\n",
              "      <td>9.61</td>\n",
              "      <td>14.7</td>\n",
              "      <td>2</td>\n",
              "      <td>3.97</td>\n",
              "      <td>3</td>\n",
              "      <td>0</td>\n",
              "    </tr>\n",
              "    <tr>\n",
              "      <th>748</th>\n",
              "      <td>749</td>\n",
              "      <td>DC</td>\n",
              "      <td>61</td>\n",
              "      <td>area_code_415</td>\n",
              "      <td>no</td>\n",
              "      <td>no</td>\n",
              "      <td>0</td>\n",
              "      <td>140.6</td>\n",
              "      <td>89</td>\n",
              "      <td>23.90</td>\n",
              "      <td>...</td>\n",
              "      <td>128</td>\n",
              "      <td>14.69</td>\n",
              "      <td>212.4</td>\n",
              "      <td>97</td>\n",
              "      <td>9.56</td>\n",
              "      <td>13.6</td>\n",
              "      <td>4</td>\n",
              "      <td>3.67</td>\n",
              "      <td>1</td>\n",
              "      <td>0</td>\n",
              "    </tr>\n",
              "    <tr>\n",
              "      <th>749</th>\n",
              "      <td>750</td>\n",
              "      <td>DC</td>\n",
              "      <td>109</td>\n",
              "      <td>area_code_510</td>\n",
              "      <td>no</td>\n",
              "      <td>no</td>\n",
              "      <td>0</td>\n",
              "      <td>188.8</td>\n",
              "      <td>67</td>\n",
              "      <td>32.10</td>\n",
              "      <td>...</td>\n",
              "      <td>92</td>\n",
              "      <td>14.59</td>\n",
              "      <td>224.4</td>\n",
              "      <td>89</td>\n",
              "      <td>10.10</td>\n",
              "      <td>8.5</td>\n",
              "      <td>6</td>\n",
              "      <td>2.30</td>\n",
              "      <td>0</td>\n",
              "      <td>0</td>\n",
              "    </tr>\n",
              "  </tbody>\n",
              "</table>\n",
              "<p>750 rows × 21 columns</p>\n",
              "</div>\n",
              "      <button class=\"colab-df-convert\" onclick=\"convertToInteractive('df-c1899679-4d93-4025-a3c9-a9b7d882f905')\"\n",
              "              title=\"Convert this dataframe to an interactive table.\"\n",
              "              style=\"display:none;\">\n",
              "        \n",
              "  <svg xmlns=\"http://www.w3.org/2000/svg\" height=\"24px\"viewBox=\"0 0 24 24\"\n",
              "       width=\"24px\">\n",
              "    <path d=\"M0 0h24v24H0V0z\" fill=\"none\"/>\n",
              "    <path d=\"M18.56 5.44l.94 2.06.94-2.06 2.06-.94-2.06-.94-.94-2.06-.94 2.06-2.06.94zm-11 1L8.5 8.5l.94-2.06 2.06-.94-2.06-.94L8.5 2.5l-.94 2.06-2.06.94zm10 10l.94 2.06.94-2.06 2.06-.94-2.06-.94-.94-2.06-.94 2.06-2.06.94z\"/><path d=\"M17.41 7.96l-1.37-1.37c-.4-.4-.92-.59-1.43-.59-.52 0-1.04.2-1.43.59L10.3 9.45l-7.72 7.72c-.78.78-.78 2.05 0 2.83L4 21.41c.39.39.9.59 1.41.59.51 0 1.02-.2 1.41-.59l7.78-7.78 2.81-2.81c.8-.78.8-2.07 0-2.86zM5.41 20L4 18.59l7.72-7.72 1.47 1.35L5.41 20z\"/>\n",
              "  </svg>\n",
              "      </button>\n",
              "      \n",
              "  <style>\n",
              "    .colab-df-container {\n",
              "      display:flex;\n",
              "      flex-wrap:wrap;\n",
              "      gap: 12px;\n",
              "    }\n",
              "\n",
              "    .colab-df-convert {\n",
              "      background-color: #E8F0FE;\n",
              "      border: none;\n",
              "      border-radius: 50%;\n",
              "      cursor: pointer;\n",
              "      display: none;\n",
              "      fill: #1967D2;\n",
              "      height: 32px;\n",
              "      padding: 0 0 0 0;\n",
              "      width: 32px;\n",
              "    }\n",
              "\n",
              "    .colab-df-convert:hover {\n",
              "      background-color: #E2EBFA;\n",
              "      box-shadow: 0px 1px 2px rgba(60, 64, 67, 0.3), 0px 1px 3px 1px rgba(60, 64, 67, 0.15);\n",
              "      fill: #174EA6;\n",
              "    }\n",
              "\n",
              "    [theme=dark] .colab-df-convert {\n",
              "      background-color: #3B4455;\n",
              "      fill: #D2E3FC;\n",
              "    }\n",
              "\n",
              "    [theme=dark] .colab-df-convert:hover {\n",
              "      background-color: #434B5C;\n",
              "      box-shadow: 0px 1px 3px 1px rgba(0, 0, 0, 0.15);\n",
              "      filter: drop-shadow(0px 1px 2px rgba(0, 0, 0, 0.3));\n",
              "      fill: #FFFFFF;\n",
              "    }\n",
              "  </style>\n",
              "\n",
              "      <script>\n",
              "        const buttonEl =\n",
              "          document.querySelector('#df-c1899679-4d93-4025-a3c9-a9b7d882f905 button.colab-df-convert');\n",
              "        buttonEl.style.display =\n",
              "          google.colab.kernel.accessAllowed ? 'block' : 'none';\n",
              "\n",
              "        async function convertToInteractive(key) {\n",
              "          const element = document.querySelector('#df-c1899679-4d93-4025-a3c9-a9b7d882f905');\n",
              "          const dataTable =\n",
              "            await google.colab.kernel.invokeFunction('convertToInteractive',\n",
              "                                                     [key], {});\n",
              "          if (!dataTable) return;\n",
              "\n",
              "          const docLinkHtml = 'Like what you see? Visit the ' +\n",
              "            '<a target=\"_blank\" href=https://colab.research.google.com/notebooks/data_table.ipynb>data table notebook</a>'\n",
              "            + ' to learn more about interactive tables.';\n",
              "          element.innerHTML = '';\n",
              "          dataTable['output_type'] = 'display_data';\n",
              "          await google.colab.output.renderOutput(dataTable, element);\n",
              "          const docLink = document.createElement('div');\n",
              "          docLink.innerHTML = docLinkHtml;\n",
              "          element.appendChild(docLink);\n",
              "        }\n",
              "      </script>\n",
              "    </div>\n",
              "  </div>\n",
              "  "
            ],
            "text/plain": [
              "      id state  account_length      area_code international_plan  \\\n",
              "0      1    KS             128  area_code_415                 no   \n",
              "1      2    AL             118  area_code_510                yes   \n",
              "2      3    IA              62  area_code_415                 no   \n",
              "3      4    VT              93  area_code_510                 no   \n",
              "4      5    NE             174  area_code_415                 no   \n",
              "..   ...   ...             ...            ...                ...   \n",
              "745  746    GA             130  area_code_415                 no   \n",
              "746  747    WA              73  area_code_408                 no   \n",
              "747  748    WV             152  area_code_415                 no   \n",
              "748  749    DC              61  area_code_415                 no   \n",
              "749  750    DC             109  area_code_510                 no   \n",
              "\n",
              "    voice_mail_plan  number_vmail_messages  total_day_minutes  \\\n",
              "0               yes                     25              265.1   \n",
              "1                no                      0              223.4   \n",
              "2                no                      0              120.7   \n",
              "3                no                      0              190.7   \n",
              "4                no                      0              124.3   \n",
              "..              ...                    ...                ...   \n",
              "745              no                      0              119.4   \n",
              "746              no                      0              177.2   \n",
              "747              no                      0              184.2   \n",
              "748              no                      0              140.6   \n",
              "749              no                      0              188.8   \n",
              "\n",
              "     total_day_calls  total_day_charge  ...  total_eve_calls  \\\n",
              "0                110             45.07  ...               99   \n",
              "1                 98             37.98  ...              101   \n",
              "2                 70             20.52  ...               76   \n",
              "3                114             32.42  ...              111   \n",
              "4                 76             21.13  ...              112   \n",
              "..               ...               ...  ...              ...   \n",
              "745               99             20.30  ...               97   \n",
              "746              118             30.12  ...               84   \n",
              "747               90             31.31  ...               73   \n",
              "748               89             23.90  ...              128   \n",
              "749               67             32.10  ...               92   \n",
              "\n",
              "     total_eve_charge  total_night_minutes  total_night_calls  \\\n",
              "0               16.78                244.7                 91   \n",
              "1               18.75                203.9                118   \n",
              "2               26.11                203.0                 99   \n",
              "3               18.55                129.6                121   \n",
              "4               23.55                250.7                115   \n",
              "..                ...                  ...                ...   \n",
              "745             19.24                202.7                111   \n",
              "746             22.99                241.8                112   \n",
              "747             21.83                213.6                113   \n",
              "748             14.69                212.4                 97   \n",
              "749             14.59                224.4                 89   \n",
              "\n",
              "     total_night_charge  total_intl_minutes  total_intl_calls  \\\n",
              "0                 11.01                10.0                 3   \n",
              "1                  9.18                 6.3                 6   \n",
              "2                  9.14                13.1                 6   \n",
              "3                  5.83                 8.1                 3   \n",
              "4                 11.28                15.5                 5   \n",
              "..                  ...                 ...               ...   \n",
              "745                9.12                11.3                 7   \n",
              "746               10.88                12.3                 2   \n",
              "747                9.61                14.7                 2   \n",
              "748                9.56                13.6                 4   \n",
              "749               10.10                 8.5                 6   \n",
              "\n",
              "     total_intl_charge  number_customer_service_calls  churn  \n",
              "0                 2.70                              1      0  \n",
              "1                 1.70                              0      0  \n",
              "2                 3.54                              4      0  \n",
              "3                 2.19                              3      0  \n",
              "4                 4.19                              3      0  \n",
              "..                 ...                            ...    ...  \n",
              "745               3.05                              0      0  \n",
              "746               3.32                              3      0  \n",
              "747               3.97                              3      0  \n",
              "748               3.67                              1      0  \n",
              "749               2.30                              0      0  \n",
              "\n",
              "[750 rows x 21 columns]"
            ]
          },
          "execution_count": 189,
          "metadata": {},
          "output_type": "execute_result"
        }
      ],
      "source": [
        "df_test.to_csv('dataset_clean.csv')\n",
        "df_test"
      ]
    },
    {
      "cell_type": "code",
      "execution_count": null,
      "metadata": {
        "id": "Nx6QdApF95LD"
      },
      "outputs": [],
      "source": []
    }
  ],
  "metadata": {
    "colab": {
      "collapsed_sections": [
        "9FhP5YwhuM_v",
        "1vtVR-xtf5cg"
      ],
      "provenance": []
    },
    "kernelspec": {
      "display_name": "Python 3",
      "name": "python3"
    },
    "language_info": {
      "name": "python"
    }
  },
  "nbformat": 4,
  "nbformat_minor": 0
}